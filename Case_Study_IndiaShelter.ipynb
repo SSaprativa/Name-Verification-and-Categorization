{
  "cells": [
    {
      "cell_type": "markdown",
      "metadata": {
        "id": "2vj0NLwcpKW9"
      },
      "source": [
        "## Importing Libraries"
      ]
    },
    {
      "cell_type": "code",
      "execution_count": 96,
      "metadata": {
        "id": "GIn6kQK0o9MF"
      },
      "outputs": [],
      "source": [
        "import numpy as np\n",
        "import pandas as pd\n",
        "import matplotlib.pyplot as plt\n",
        "import seaborn as sns"
      ]
    },
    {
      "cell_type": "markdown",
      "metadata": {
        "id": "fJ-adawkpjqN"
      },
      "source": [
        "## Reading Dataset"
      ]
    },
    {
      "cell_type": "code",
      "execution_count": 97,
      "metadata": {
        "colab": {
          "base_uri": "https://localhost:8080/",
          "height": 206
        },
        "id": "WC9OBspApbGQ",
        "outputId": "e55072f1-baac-45da-e5c9-bf0fa7503554"
      },
      "outputs": [
        {
          "data": {
            "text/html": [
              "<div>\n",
              "<style scoped>\n",
              "    .dataframe tbody tr th:only-of-type {\n",
              "        vertical-align: middle;\n",
              "    }\n",
              "\n",
              "    .dataframe tbody tr th {\n",
              "        vertical-align: top;\n",
              "    }\n",
              "\n",
              "    .dataframe thead th {\n",
              "        text-align: right;\n",
              "    }\n",
              "</style>\n",
              "<table border=\"1\" class=\"dataframe\">\n",
              "  <thead>\n",
              "    <tr style=\"text-align: right;\">\n",
              "      <th></th>\n",
              "      <th>Loan ID</th>\n",
              "      <th>Customer ID</th>\n",
              "      <th>Caste</th>\n",
              "      <th>Full Name</th>\n",
              "      <th>Father Name</th>\n",
              "      <th>Mother Name</th>\n",
              "      <th>Spouse Name</th>\n",
              "      <th>State</th>\n",
              "    </tr>\n",
              "  </thead>\n",
              "  <tbody>\n",
              "    <tr>\n",
              "      <th>0</th>\n",
              "      <td>LN-771687</td>\n",
              "      <td>CID-180965</td>\n",
              "      <td>General</td>\n",
              "      <td>KRISHNA KUNWAR</td>\n",
              "      <td>GORDHAN SINGH</td>\n",
              "      <td>GENDA KUNWAR</td>\n",
              "      <td>SHAMBHU</td>\n",
              "      <td>Madhya Pradesh</td>\n",
              "    </tr>\n",
              "    <tr>\n",
              "      <th>1</th>\n",
              "      <td>LN-771687</td>\n",
              "      <td>CID-551066</td>\n",
              "      <td>General</td>\n",
              "      <td>SHAMBHU SINGH</td>\n",
              "      <td>KALU SINGH</td>\n",
              "      <td>ANTAR BAI</td>\n",
              "      <td>KRISHNA KUNWAR</td>\n",
              "      <td>Madhya Pradesh</td>\n",
              "    </tr>\n",
              "    <tr>\n",
              "      <th>2</th>\n",
              "      <td>LN-771687</td>\n",
              "      <td>CID-760294</td>\n",
              "      <td>General</td>\n",
              "      <td>SURAJ RATHORE</td>\n",
              "      <td>SHAMBHU SINGH</td>\n",
              "      <td>KRISHNA SINGH</td>\n",
              "      <td>NaN</td>\n",
              "      <td>Madhya Pradesh</td>\n",
              "    </tr>\n",
              "    <tr>\n",
              "      <th>3</th>\n",
              "      <td>LN-450141</td>\n",
              "      <td>CID-990878</td>\n",
              "      <td>General</td>\n",
              "      <td>SUSHILA .</td>\n",
              "      <td>SAGAR MAL</td>\n",
              "      <td>KANTA DEVI</td>\n",
              "      <td>MOHAN LAL KHICHI</td>\n",
              "      <td>Rajasthan</td>\n",
              "    </tr>\n",
              "    <tr>\n",
              "      <th>4</th>\n",
              "      <td>LN-450141</td>\n",
              "      <td>CID-993755</td>\n",
              "      <td>General</td>\n",
              "      <td>VISHAL KHICHI</td>\n",
              "      <td>MOHAN LAL</td>\n",
              "      <td>SUSHILA</td>\n",
              "      <td>NaN</td>\n",
              "      <td>Rajasthan</td>\n",
              "    </tr>\n",
              "  </tbody>\n",
              "</table>\n",
              "</div>"
            ],
            "text/plain": [
              "     Loan ID Customer ID    Caste       Full Name    Father Name  \\\n",
              "0  LN-771687  CID-180965  General  KRISHNA KUNWAR  GORDHAN SINGH   \n",
              "1  LN-771687  CID-551066  General   SHAMBHU SINGH     KALU SINGH   \n",
              "2  LN-771687  CID-760294  General   SURAJ RATHORE  SHAMBHU SINGH   \n",
              "3  LN-450141  CID-990878  General       SUSHILA .      SAGAR MAL   \n",
              "4  LN-450141  CID-993755  General   VISHAL KHICHI      MOHAN LAL   \n",
              "\n",
              "     Mother Name       Spouse Name           State  \n",
              "0   GENDA KUNWAR           SHAMBHU  Madhya Pradesh  \n",
              "1      ANTAR BAI    KRISHNA KUNWAR  Madhya Pradesh  \n",
              "2  KRISHNA SINGH               NaN  Madhya Pradesh  \n",
              "3     KANTA DEVI  MOHAN LAL KHICHI       Rajasthan  \n",
              "4        SUSHILA               NaN       Rajasthan  "
            ]
          },
          "execution_count": 97,
          "metadata": {},
          "output_type": "execute_result"
        }
      ],
      "source": [
        "data = pd.read_csv('dataset.csv')\n",
        "data.head()"
      ]
    },
    {
      "cell_type": "markdown",
      "metadata": {
        "id": "JmlutNQHp9Oq"
      },
      "source": [
        "## Reading Category List"
      ]
    },
    {
      "cell_type": "code",
      "execution_count": 98,
      "metadata": {
        "id": "mZxUzm06-2Tv"
      },
      "outputs": [],
      "source": [
        "st_castes_maharashtra = [\n",
        "    'Andh', 'Baiga', 'Barda', 'Bavacha', 'Bamcha', 'Bhaina', 'Bharia Bhumia', 'Bhuinhar Bhumia', 'Pando','Bhattra', 'Bhil', 'Bhil Garasia', 'Dholi Bhil', 'Dungri Bhil', 'Dungri Garasia', 'Mewasi Bhil',\n",
        "    'Rawal Bhil', 'Tadvi Bhil', 'Bhagalia', 'Bhilala', 'Pawra', 'Vasava', 'Vasave', 'Bhunjia', 'Binjhwar', 'Birhul', 'Birhor', 'Dhanka', 'Tetaria', 'Valvi', 'Dhanwar', 'Dhodia', 'Dubla', 'Talavia', 'Halpati', 'Gamit', 'Gamta', 'Gavit', 'Mavchi', 'Padvi', 'Gond', 'Rajgond', 'Arakh', 'Arrakh', 'Agaria', 'Asur',\n",
        "    'Badi Maria', 'Bada Maria', 'Bhatola', 'Bhimma', 'Bhuta', 'Koilabhuta', 'Koilabhuti', 'Bhar', 'Bisonhorn Maria', 'Chota Maria', 'Dandami Maria', 'Dhuru', 'Dhurwa', 'Dhoba', 'Dhulia', 'Dorla',\n",
        "    'Gaiki', 'Gatta', 'Gatti', 'Gaita', 'Gond Gowari', 'Hill Maria', 'Kandra', 'Kalanga', 'Khatola', 'Koitar', 'Koya', 'Khirwar', 'Khirwara', 'Kucha Maria', 'Kuchaki Maria', 'Madia', 'Mana', 'Mannewar',\n",
        "    'Moghya', 'Mogia', 'Monghya', 'Mudia', 'Muria', 'Nagarchi', 'Naikpod', 'Nagwanshi', 'Ojha', 'Raj', 'Sonjhari Jhareka', 'Thatia', 'Thotya', 'Wade Maria', 'Vade Maria', 'Halba', 'Halbi', 'Kamar', 'Kathodi', 'Katkari', 'Dhor Kathodi', 'Dhor Kathkari', 'Son Kathodi', 'Son Katkari', 'Kawar', 'Kanwar', 'Kaur',\n",
        "    'Cherwa', 'Rathia', 'Tanwar', 'Chattri', 'Khairwar', 'Kharia', 'Kokna', 'Kokni', 'Kukna', 'Kol', 'Kolam', 'Mannervarlu', 'Koli Dhor', 'Tokre Koli', 'Kolcha', 'Kolgha', 'Koli Mahadev', 'Dongar Koli', 'Koli Malhar', 'Kondh', 'Khond', 'Kandh', 'Korku', 'Bopchi', 'Mouasi', 'Nihal', 'Nahul', 'Bondhi',\n",
        "    'Bondeya', 'Koya', 'Bhine Koya', 'Rajkoya', 'Nagesia', 'Nagasia', 'Naikda', 'Nayaka', 'Cholivala Nayaka', 'Kapadia Nayaka', 'Mota Nayaka', 'Nana Nayaka', 'Oraon', 'Dhangad', 'Pardhan', 'Pathari', 'Saroti', 'Pardhi', 'Advichincher', 'Phans Pardhi', 'Phanse Pardhi', 'Langoli Pardhi', 'Bahelia', 'Bahellia',\n",
        "    'Chita Pardhi', 'Shikari', 'Takankar', 'Takia', 'Parja', 'Patelia', 'Pomla', 'Rathawa', 'Sawar', 'Sawara', 'Thakur', 'Thakar', 'Varli', 'Vitolia', 'Kotwalia', 'Barodia'\n",
        "]"
      ]
    },
    {
      "cell_type": "code",
      "execution_count": 99,
      "metadata": {
        "id": "PaawYDuz-2HN"
      },
      "outputs": [],
      "source": [
        "st_castes_maharashtra = [caste.upper() for caste in st_castes_maharashtra]"
      ]
    },
    {
      "cell_type": "code",
      "execution_count": 100,
      "metadata": {
        "id": "j_Z-doxcA8gN"
      },
      "outputs": [],
      "source": [
        "st_castes_rajasthan = [\n",
        "    'Bhil', 'Bhil Garasia', 'Dholi Bhil', 'Dungri Bhil', 'Dungri Garasia', 'Mewasi Bhil', 'Rawal Bhil', 'Tadvi Bhil', 'Bhagalia', 'Bhilala', 'Pawra', 'Vasava', 'Vasave', 'Bhil Mina', 'Damor', 'Damaria',\n",
        "    'Dhanka', 'Tadvi', 'Tetaria', 'Valvi', 'Garasia', 'Kathodi', 'Katkari', 'Dhor Kathodi', 'Dhor Katkari', 'Son Kathodi', 'Son Katkari', 'Kokna', 'Kokni', 'Kukna', 'Koli Dhor', 'Tokre Koli', 'Kolcha', 'Kolgha',\n",
        "    'Mina', 'Naikda', 'Nayaka', 'Cholivala Nayaka', 'Kapadia Nayaka', 'Mota Nayaka', 'Nana Nayaka', 'Patelia', 'Seharia', 'Sehria', 'Sahariya'\n",
        "]"
      ]
    },
    {
      "cell_type": "code",
      "execution_count": 101,
      "metadata": {
        "id": "P0gaGFOyA8dn"
      },
      "outputs": [],
      "source": [
        "st_castes_rajasthan = [caste.upper() for caste in st_castes_rajasthan]"
      ]
    },
    {
      "cell_type": "code",
      "execution_count": 102,
      "metadata": {
        "id": "2neFrrPkA8au"
      },
      "outputs": [],
      "source": [
        "st_castes_madhya_pradesh= [\n",
        "    'Bhotia', 'Buksa', 'Jaunsari', 'Raji', 'Tharu', 'Gond', 'Dhuria', 'Nayak', 'Ojha', 'Pathari', 'Raj Gond',\n",
        "    'Kharwar', 'Khairwar', 'Saharya', 'Parahiya', 'Baiga', 'Pankha', 'Panika', 'Agariya', 'Patari', 'Chero',\n",
        "    'Bhuiya', 'Bhuinya'\n",
        "]"
      ]
    },
    {
      "cell_type": "code",
      "execution_count": 103,
      "metadata": {
        "id": "hyxKOOK5A8X3"
      },
      "outputs": [],
      "source": [
        "st_castes_madhya_pradesh = [caste.upper() for caste in st_castes_madhya_pradesh]"
      ]
    },
    {
      "cell_type": "code",
      "execution_count": 104,
      "metadata": {
        "colab": {
          "base_uri": "https://localhost:8080/"
        },
        "id": "ceDl72wpA8US",
        "outputId": "a58fbb82-dcb0-42eb-ee66-c01bf6151b47"
      },
      "outputs": [
        {
          "data": {
            "text/plain": [
              "175"
            ]
          },
          "execution_count": 104,
          "metadata": {},
          "output_type": "execute_result"
        }
      ],
      "source": [
        "len(st_castes_maharashtra)"
      ]
    },
    {
      "cell_type": "code",
      "execution_count": 105,
      "metadata": {
        "colab": {
          "base_uri": "https://localhost:8080/"
        },
        "id": "jYI5JIBrB4mR",
        "outputId": "f7aa4712-8759-48f4-cb4b-92ceb6f5390d"
      },
      "outputs": [
        {
          "data": {
            "text/plain": [
              "45"
            ]
          },
          "execution_count": 105,
          "metadata": {},
          "output_type": "execute_result"
        }
      ],
      "source": [
        "len(st_castes_rajasthan)"
      ]
    },
    {
      "cell_type": "code",
      "execution_count": 106,
      "metadata": {
        "colab": {
          "base_uri": "https://localhost:8080/"
        },
        "id": "qOmh7WtkB4i6",
        "outputId": "f06138d6-af3a-47c6-8b44-bafed1e1bb24"
      },
      "outputs": [
        {
          "data": {
            "text/plain": [
              "23"
            ]
          },
          "execution_count": 106,
          "metadata": {},
          "output_type": "execute_result"
        }
      ],
      "source": [
        "len(st_castes_madhya_pradesh)"
      ]
    },
    {
      "cell_type": "markdown",
      "metadata": {
        "id": "tVrR8oXEsShz"
      },
      "source": [
        "## 01. Data Preprocessing ---> Missing Data Imputation"
      ]
    },
    {
      "cell_type": "code",
      "execution_count": 107,
      "metadata": {
        "colab": {
          "base_uri": "https://localhost:8080/"
        },
        "id": "JnHyLNGltIUy",
        "outputId": "2ebb5020-eb9d-42c4-8530-c29707718ef6"
      },
      "outputs": [
        {
          "data": {
            "text/plain": [
              "(10000, 8)"
            ]
          },
          "execution_count": 107,
          "metadata": {},
          "output_type": "execute_result"
        }
      ],
      "source": [
        "data.shape"
      ]
    },
    {
      "cell_type": "code",
      "execution_count": 108,
      "metadata": {
        "colab": {
          "base_uri": "https://localhost:8080/",
          "height": 335
        },
        "id": "o52I_KyirW-X",
        "outputId": "b8ade024-a9c1-41dc-ae58-3b55a8ccd0fd"
      },
      "outputs": [
        {
          "data": {
            "text/plain": [
              "Loan ID           0\n",
              "Customer ID       0\n",
              "Caste           244\n",
              "Full Name         0\n",
              "Father Name    2627\n",
              "Mother Name    3432\n",
              "Spouse Name    4840\n",
              "State             0\n",
              "dtype: int64"
            ]
          },
          "execution_count": 108,
          "metadata": {},
          "output_type": "execute_result"
        }
      ],
      "source": [
        "## checking for missing value\n",
        "data.isnull().sum()\n",
        "## Caste has 244 missing value\n",
        "## Father Name has 2627 missing value\n",
        "## Mother Name has 3432 missing value\n",
        "## Spouse Name has 4840 missing value"
      ]
    },
    {
      "cell_type": "code",
      "execution_count": 109,
      "metadata": {
        "id": "cLRA0bPnqXpg"
      },
      "outputs": [],
      "source": [
        "## filling the missing data in 'Caste' by 'Unknown'\n",
        "data['Caste'].fillna('Unknown', inplace=True)"
      ]
    },
    {
      "cell_type": "code",
      "execution_count": 110,
      "metadata": {
        "id": "rsd2L8jSuXsG"
      },
      "outputs": [],
      "source": [
        "## filling the missing data of 'Father Name' and 'Mother Name' by 'Unknown'\n",
        "data['Father Name'].fillna('Unknown', inplace=True)\n",
        "data['Mother Name'].fillna('Unknown', inplace=True)"
      ]
    },
    {
      "cell_type": "code",
      "execution_count": 111,
      "metadata": {
        "id": "RzXETXHDvL7Q"
      },
      "outputs": [],
      "source": [
        "## filling the missing data of 'Spouse Name' by 'NA'\n",
        "data['Spouse Name'].fillna('NA', inplace=True)"
      ]
    },
    {
      "cell_type": "code",
      "execution_count": 112,
      "metadata": {
        "id": "psYys7M2BPO1"
      },
      "outputs": [],
      "source": [
        "for column in data.columns:\n",
        "  if data[column].dtype == object:\n",
        "    data[column] = data[column].str.rstrip('.')"
      ]
    },
    {
      "cell_type": "code",
      "execution_count": 113,
      "metadata": {
        "id": "RP1B7Qu8y2tD"
      },
      "outputs": [],
      "source": [
        "data['Mother Name'].replace('.', 'Unknown', inplace=True)\n",
        "data['Father Name'].replace('.', 'Unknown', inplace=True)\n",
        "data['Spouse Name'].replace('.', 'NA', inplace=True)"
      ]
    },
    {
      "cell_type": "code",
      "execution_count": 114,
      "metadata": {
        "colab": {
          "base_uri": "https://localhost:8080/",
          "height": 335
        },
        "id": "JmOm7EbCvbAE",
        "outputId": "a3b8084e-3e94-425a-de12-862802aa2ce3"
      },
      "outputs": [
        {
          "data": {
            "text/plain": [
              "Loan ID        0\n",
              "Customer ID    0\n",
              "Caste          0\n",
              "Full Name      0\n",
              "Father Name    0\n",
              "Mother Name    0\n",
              "Spouse Name    0\n",
              "State          0\n",
              "dtype: int64"
            ]
          },
          "execution_count": 114,
          "metadata": {},
          "output_type": "execute_result"
        }
      ],
      "source": [
        "data.isnull().sum()"
      ]
    },
    {
      "cell_type": "code",
      "execution_count": 115,
      "metadata": {
        "colab": {
          "base_uri": "https://localhost:8080/"
        },
        "id": "cV6P2bpSismw",
        "outputId": "ff2d3321-b7be-45a8-f5d5-a10a94964b46"
      },
      "outputs": [
        {
          "data": {
            "text/plain": [
              "(10000, 8)"
            ]
          },
          "execution_count": 115,
          "metadata": {},
          "output_type": "execute_result"
        }
      ],
      "source": [
        "data.shape"
      ]
    },
    {
      "cell_type": "markdown",
      "metadata": {
        "id": "Qx4uyOepwCL6"
      },
      "source": [
        "## 02. Data Preprocessing ---> Categorical Encoding"
      ]
    },
    {
      "cell_type": "code",
      "execution_count": 116,
      "metadata": {
        "colab": {
          "base_uri": "https://localhost:8080/",
          "height": 335
        },
        "id": "OE-2YqvPvfDL",
        "outputId": "cb8a7d3f-3680-459a-8c04-e66e6c1105cf"
      },
      "outputs": [
        {
          "data": {
            "text/plain": [
              "Loan ID        object\n",
              "Customer ID    object\n",
              "Caste          object\n",
              "Full Name      object\n",
              "Father Name    object\n",
              "Mother Name    object\n",
              "Spouse Name    object\n",
              "State          object\n",
              "dtype: object"
            ]
          },
          "execution_count": 116,
          "metadata": {},
          "output_type": "execute_result"
        }
      ],
      "source": [
        "data.dtypes"
      ]
    },
    {
      "cell_type": "code",
      "execution_count": 117,
      "metadata": {
        "colab": {
          "base_uri": "https://localhost:8080/"
        },
        "id": "o-f18Kv6vyvW",
        "outputId": "0ac294b6-80b2-412e-de52-a5f468521d32"
      },
      "outputs": [
        {
          "data": {
            "text/plain": [
              "array(['General', 'Other Backward Caste(OBC)', 'SC', 'OBC', 'Unknown',\n",
              "       'ST', 'Schedule tribe(ST)', 'Scheduled Caste(SC)',\n",
              "       'Backward Caste'], dtype=object)"
            ]
          },
          "execution_count": 117,
          "metadata": {},
          "output_type": "execute_result"
        }
      ],
      "source": [
        "data['Caste'].unique()"
      ]
    },
    {
      "cell_type": "code",
      "execution_count": 118,
      "metadata": {
        "id": "faB7vLT78nhb"
      },
      "outputs": [],
      "source": [
        "## since SC,ST,OBC are same as 'Schedule tribe(ST)', 'Scheduled Caste(SC)' and 'Other Backward Caste(OBC)\n",
        "data['Caste'] = data['Caste'].replace({\n",
        "    'Scheduled Caste(SC)': 'SC',\n",
        "    'Schedule tribe(ST)': 'ST',\n",
        "    'Other Backward Caste(OBC)':'OBC'\n",
        "})"
      ]
    },
    {
      "cell_type": "code",
      "execution_count": 119,
      "metadata": {
        "colab": {
          "base_uri": "https://localhost:8080/"
        },
        "id": "MRwoKoiR8nbL",
        "outputId": "766b4bbf-2afa-4b38-c7c0-29e5c99b25f1"
      },
      "outputs": [
        {
          "data": {
            "text/plain": [
              "array(['General', 'OBC', 'SC', 'Unknown', 'ST', 'Backward Caste'],\n",
              "      dtype=object)"
            ]
          },
          "execution_count": 119,
          "metadata": {},
          "output_type": "execute_result"
        }
      ],
      "source": [
        "data['Caste'].unique()"
      ]
    },
    {
      "cell_type": "code",
      "execution_count": 120,
      "metadata": {
        "colab": {
          "base_uri": "https://localhost:8080/"
        },
        "id": "MkYySZHBxcp4",
        "outputId": "3ea55fdf-a941-45a1-d0c2-298e046143c5"
      },
      "outputs": [
        {
          "data": {
            "text/plain": [
              "array(['Madhya Pradesh', 'Rajasthan', 'Maharashtra'], dtype=object)"
            ]
          },
          "execution_count": 120,
          "metadata": {},
          "output_type": "execute_result"
        }
      ],
      "source": [
        "data['State'].unique()"
      ]
    },
    {
      "cell_type": "code",
      "execution_count": 121,
      "metadata": {
        "colab": {
          "base_uri": "https://localhost:8080/",
          "height": 206
        },
        "id": "DmR7jjo42elA",
        "outputId": "46909ded-b8ad-4b82-e010-35dd2ed3d970"
      },
      "outputs": [
        {
          "data": {
            "text/html": [
              "<div>\n",
              "<style scoped>\n",
              "    .dataframe tbody tr th:only-of-type {\n",
              "        vertical-align: middle;\n",
              "    }\n",
              "\n",
              "    .dataframe tbody tr th {\n",
              "        vertical-align: top;\n",
              "    }\n",
              "\n",
              "    .dataframe thead th {\n",
              "        text-align: right;\n",
              "    }\n",
              "</style>\n",
              "<table border=\"1\" class=\"dataframe\">\n",
              "  <thead>\n",
              "    <tr style=\"text-align: right;\">\n",
              "      <th></th>\n",
              "      <th>Loan ID</th>\n",
              "      <th>Customer ID</th>\n",
              "      <th>Caste</th>\n",
              "      <th>Full Name</th>\n",
              "      <th>Father Name</th>\n",
              "      <th>Mother Name</th>\n",
              "      <th>Spouse Name</th>\n",
              "      <th>State</th>\n",
              "    </tr>\n",
              "  </thead>\n",
              "  <tbody>\n",
              "    <tr>\n",
              "      <th>0</th>\n",
              "      <td>LN-771687</td>\n",
              "      <td>CID-180965</td>\n",
              "      <td>General</td>\n",
              "      <td>KRISHNA KUNWAR</td>\n",
              "      <td>GORDHAN SINGH</td>\n",
              "      <td>GENDA KUNWAR</td>\n",
              "      <td>SHAMBHU</td>\n",
              "      <td>Madhya Pradesh</td>\n",
              "    </tr>\n",
              "    <tr>\n",
              "      <th>1</th>\n",
              "      <td>LN-771687</td>\n",
              "      <td>CID-551066</td>\n",
              "      <td>General</td>\n",
              "      <td>SHAMBHU SINGH</td>\n",
              "      <td>KALU SINGH</td>\n",
              "      <td>ANTAR BAI</td>\n",
              "      <td>KRISHNA KUNWAR</td>\n",
              "      <td>Madhya Pradesh</td>\n",
              "    </tr>\n",
              "    <tr>\n",
              "      <th>2</th>\n",
              "      <td>LN-771687</td>\n",
              "      <td>CID-760294</td>\n",
              "      <td>General</td>\n",
              "      <td>SURAJ RATHORE</td>\n",
              "      <td>SHAMBHU SINGH</td>\n",
              "      <td>KRISHNA SINGH</td>\n",
              "      <td>NA</td>\n",
              "      <td>Madhya Pradesh</td>\n",
              "    </tr>\n",
              "    <tr>\n",
              "      <th>3</th>\n",
              "      <td>LN-450141</td>\n",
              "      <td>CID-990878</td>\n",
              "      <td>General</td>\n",
              "      <td>SUSHILA</td>\n",
              "      <td>SAGAR MAL</td>\n",
              "      <td>KANTA DEVI</td>\n",
              "      <td>MOHAN LAL KHICHI</td>\n",
              "      <td>Rajasthan</td>\n",
              "    </tr>\n",
              "    <tr>\n",
              "      <th>4</th>\n",
              "      <td>LN-450141</td>\n",
              "      <td>CID-993755</td>\n",
              "      <td>General</td>\n",
              "      <td>VISHAL KHICHI</td>\n",
              "      <td>MOHAN LAL</td>\n",
              "      <td>SUSHILA</td>\n",
              "      <td>NA</td>\n",
              "      <td>Rajasthan</td>\n",
              "    </tr>\n",
              "  </tbody>\n",
              "</table>\n",
              "</div>"
            ],
            "text/plain": [
              "     Loan ID Customer ID    Caste       Full Name    Father Name  \\\n",
              "0  LN-771687  CID-180965  General  KRISHNA KUNWAR  GORDHAN SINGH   \n",
              "1  LN-771687  CID-551066  General   SHAMBHU SINGH     KALU SINGH   \n",
              "2  LN-771687  CID-760294  General   SURAJ RATHORE  SHAMBHU SINGH   \n",
              "3  LN-450141  CID-990878  General        SUSHILA       SAGAR MAL   \n",
              "4  LN-450141  CID-993755  General   VISHAL KHICHI      MOHAN LAL   \n",
              "\n",
              "     Mother Name       Spouse Name           State  \n",
              "0   GENDA KUNWAR           SHAMBHU  Madhya Pradesh  \n",
              "1      ANTAR BAI    KRISHNA KUNWAR  Madhya Pradesh  \n",
              "2  KRISHNA SINGH                NA  Madhya Pradesh  \n",
              "3     KANTA DEVI  MOHAN LAL KHICHI       Rajasthan  \n",
              "4        SUSHILA                NA       Rajasthan  "
            ]
          },
          "execution_count": 121,
          "metadata": {},
          "output_type": "execute_result"
        }
      ],
      "source": [
        "data.head()"
      ]
    },
    {
      "cell_type": "code",
      "execution_count": 122,
      "metadata": {
        "colab": {
          "base_uri": "https://localhost:8080/"
        },
        "id": "DrOhh0nX7ftX",
        "outputId": "8ea154c2-a43e-493c-c4dd-1aaebd227617"
      },
      "outputs": [
        {
          "name": "stdout",
          "output_type": "stream",
          "text": [
            "Caste\n",
            "General           5627\n",
            "OBC               2960\n",
            "SC                 798\n",
            "ST                 366\n",
            "Unknown            244\n",
            "Backward Caste       5\n",
            "Name: count, dtype: int64\n"
          ]
        }
      ],
      "source": [
        "## cast count for each cast category\n",
        "caste_counts = data['Caste'].value_counts()\n",
        "print(caste_counts)"
      ]
    },
    {
      "cell_type": "code",
      "execution_count": 123,
      "metadata": {
        "colab": {
          "base_uri": "https://localhost:8080/"
        },
        "id": "GilB5i2z7rj8",
        "outputId": "18809e46-bf44-43b8-8197-53203f591f33"
      },
      "outputs": [
        {
          "name": "stdout",
          "output_type": "stream",
          "text": [
            "State\n",
            "Rajasthan         4844\n",
            "Maharashtra       2863\n",
            "Madhya Pradesh    2293\n",
            "Name: count, dtype: int64\n"
          ]
        }
      ],
      "source": [
        "## state count for each state category\n",
        "State_counts = data['State'].value_counts()\n",
        "print(State_counts)"
      ]
    },
    {
      "cell_type": "code",
      "execution_count": 124,
      "metadata": {
        "id": "clQNS0Sw5ikm"
      },
      "outputs": [],
      "source": [
        "## encoding State\n",
        "def state_mapping(state):\n",
        "  if state == 'Madhya Pradesh':\n",
        "    return 1\n",
        "  elif state == 'Rajasthan':\n",
        "    return 2\n",
        "  elif state == 'Maharashtra':\n",
        "    return 3\n",
        "  else:\n",
        "    return 0"
      ]
    },
    {
      "cell_type": "code",
      "execution_count": 125,
      "metadata": {
        "id": "-FiOfq6L6o9N"
      },
      "outputs": [],
      "source": [
        "data['state_map'] = data['State'].apply(state_mapping)"
      ]
    },
    {
      "cell_type": "code",
      "execution_count": 126,
      "metadata": {
        "id": "Q4OX7ts174kP"
      },
      "outputs": [],
      "source": [
        "state_map_count = data['state_map'].value_counts()"
      ]
    },
    {
      "cell_type": "code",
      "execution_count": 127,
      "metadata": {
        "colab": {
          "base_uri": "https://localhost:8080/"
        },
        "id": "ff4jhvasBu8C",
        "outputId": "cde950e6-e9cb-4adc-8d82-16fc883da975"
      },
      "outputs": [
        {
          "name": "stdout",
          "output_type": "stream",
          "text": [
            "state_map\n",
            "2    4844\n",
            "3    2863\n",
            "1    2293\n",
            "Name: count, dtype: int64\n"
          ]
        }
      ],
      "source": [
        "print(state_map_count)"
      ]
    },
    {
      "cell_type": "code",
      "execution_count": 128,
      "metadata": {
        "id": "zVpYJObK51H1"
      },
      "outputs": [],
      "source": [
        "## encoding caste\n",
        "def caste_mapping(caste):\n",
        "  if caste == 'General':\n",
        "    return 1\n",
        "  elif caste == 'SC':\n",
        "    return 2\n",
        "  elif caste == 'ST':\n",
        "    return 3\n",
        "  elif caste == 'OBC':\n",
        "    return 4\n",
        "  elif caste == 'Backward Caste':\n",
        "    return 5\n",
        "  elif caste == 'Unknown':\n",
        "    return 0\n",
        "  else:\n",
        "    return None"
      ]
    },
    {
      "cell_type": "code",
      "execution_count": 129,
      "metadata": {
        "id": "cH1U-tMt7HXl"
      },
      "outputs": [],
      "source": [
        "data['caste_map'] = data['Caste'].apply(caste_mapping)"
      ]
    },
    {
      "cell_type": "code",
      "execution_count": 130,
      "metadata": {
        "colab": {
          "base_uri": "https://localhost:8080/"
        },
        "id": "QgAQK36_8BSp",
        "outputId": "bcf80cb8-0d56-43f7-af57-435c1eb04394"
      },
      "outputs": [
        {
          "name": "stdout",
          "output_type": "stream",
          "text": [
            "caste_map\n",
            "1    5627\n",
            "4    2960\n",
            "2     798\n",
            "3     366\n",
            "0     244\n",
            "5       5\n",
            "Name: count, dtype: int64\n"
          ]
        }
      ],
      "source": [
        "caste_map_count = data['caste_map'].value_counts()\n",
        "print(caste_map_count)"
      ]
    },
    {
      "cell_type": "code",
      "execution_count": 131,
      "metadata": {
        "colab": {
          "base_uri": "https://localhost:8080/",
          "height": 206
        },
        "id": "2EG24nAO8FKx",
        "outputId": "98b5a72e-c961-4365-ca29-a2a1f14653ef"
      },
      "outputs": [
        {
          "data": {
            "text/html": [
              "<div>\n",
              "<style scoped>\n",
              "    .dataframe tbody tr th:only-of-type {\n",
              "        vertical-align: middle;\n",
              "    }\n",
              "\n",
              "    .dataframe tbody tr th {\n",
              "        vertical-align: top;\n",
              "    }\n",
              "\n",
              "    .dataframe thead th {\n",
              "        text-align: right;\n",
              "    }\n",
              "</style>\n",
              "<table border=\"1\" class=\"dataframe\">\n",
              "  <thead>\n",
              "    <tr style=\"text-align: right;\">\n",
              "      <th></th>\n",
              "      <th>Loan ID</th>\n",
              "      <th>Customer ID</th>\n",
              "      <th>Caste</th>\n",
              "      <th>Full Name</th>\n",
              "      <th>Father Name</th>\n",
              "      <th>Mother Name</th>\n",
              "      <th>Spouse Name</th>\n",
              "      <th>State</th>\n",
              "      <th>state_map</th>\n",
              "      <th>caste_map</th>\n",
              "    </tr>\n",
              "  </thead>\n",
              "  <tbody>\n",
              "    <tr>\n",
              "      <th>0</th>\n",
              "      <td>LN-771687</td>\n",
              "      <td>CID-180965</td>\n",
              "      <td>General</td>\n",
              "      <td>KRISHNA KUNWAR</td>\n",
              "      <td>GORDHAN SINGH</td>\n",
              "      <td>GENDA KUNWAR</td>\n",
              "      <td>SHAMBHU</td>\n",
              "      <td>Madhya Pradesh</td>\n",
              "      <td>1</td>\n",
              "      <td>1</td>\n",
              "    </tr>\n",
              "    <tr>\n",
              "      <th>1</th>\n",
              "      <td>LN-771687</td>\n",
              "      <td>CID-551066</td>\n",
              "      <td>General</td>\n",
              "      <td>SHAMBHU SINGH</td>\n",
              "      <td>KALU SINGH</td>\n",
              "      <td>ANTAR BAI</td>\n",
              "      <td>KRISHNA KUNWAR</td>\n",
              "      <td>Madhya Pradesh</td>\n",
              "      <td>1</td>\n",
              "      <td>1</td>\n",
              "    </tr>\n",
              "    <tr>\n",
              "      <th>2</th>\n",
              "      <td>LN-771687</td>\n",
              "      <td>CID-760294</td>\n",
              "      <td>General</td>\n",
              "      <td>SURAJ RATHORE</td>\n",
              "      <td>SHAMBHU SINGH</td>\n",
              "      <td>KRISHNA SINGH</td>\n",
              "      <td>NA</td>\n",
              "      <td>Madhya Pradesh</td>\n",
              "      <td>1</td>\n",
              "      <td>1</td>\n",
              "    </tr>\n",
              "    <tr>\n",
              "      <th>3</th>\n",
              "      <td>LN-450141</td>\n",
              "      <td>CID-990878</td>\n",
              "      <td>General</td>\n",
              "      <td>SUSHILA</td>\n",
              "      <td>SAGAR MAL</td>\n",
              "      <td>KANTA DEVI</td>\n",
              "      <td>MOHAN LAL KHICHI</td>\n",
              "      <td>Rajasthan</td>\n",
              "      <td>2</td>\n",
              "      <td>1</td>\n",
              "    </tr>\n",
              "    <tr>\n",
              "      <th>4</th>\n",
              "      <td>LN-450141</td>\n",
              "      <td>CID-993755</td>\n",
              "      <td>General</td>\n",
              "      <td>VISHAL KHICHI</td>\n",
              "      <td>MOHAN LAL</td>\n",
              "      <td>SUSHILA</td>\n",
              "      <td>NA</td>\n",
              "      <td>Rajasthan</td>\n",
              "      <td>2</td>\n",
              "      <td>1</td>\n",
              "    </tr>\n",
              "  </tbody>\n",
              "</table>\n",
              "</div>"
            ],
            "text/plain": [
              "     Loan ID Customer ID    Caste       Full Name    Father Name  \\\n",
              "0  LN-771687  CID-180965  General  KRISHNA KUNWAR  GORDHAN SINGH   \n",
              "1  LN-771687  CID-551066  General   SHAMBHU SINGH     KALU SINGH   \n",
              "2  LN-771687  CID-760294  General   SURAJ RATHORE  SHAMBHU SINGH   \n",
              "3  LN-450141  CID-990878  General        SUSHILA       SAGAR MAL   \n",
              "4  LN-450141  CID-993755  General   VISHAL KHICHI      MOHAN LAL   \n",
              "\n",
              "     Mother Name       Spouse Name           State  state_map  caste_map  \n",
              "0   GENDA KUNWAR           SHAMBHU  Madhya Pradesh          1          1  \n",
              "1      ANTAR BAI    KRISHNA KUNWAR  Madhya Pradesh          1          1  \n",
              "2  KRISHNA SINGH                NA  Madhya Pradesh          1          1  \n",
              "3     KANTA DEVI  MOHAN LAL KHICHI       Rajasthan          2          1  \n",
              "4        SUSHILA                NA       Rajasthan          2          1  "
            ]
          },
          "execution_count": 131,
          "metadata": {},
          "output_type": "execute_result"
        }
      ],
      "source": [
        "data.head()"
      ]
    },
    {
      "cell_type": "markdown",
      "metadata": {
        "id": "Wzc428pB-ePj"
      },
      "source": [
        "## 03. Data Preprocessing ---> Handling Duplicate Values"
      ]
    },
    {
      "cell_type": "code",
      "execution_count": 132,
      "metadata": {
        "colab": {
          "base_uri": "https://localhost:8080/"
        },
        "id": "k2hurjPF9Wh2",
        "outputId": "719dd107-b6cb-46b6-bf10-e11f6df0ddfe"
      },
      "outputs": [
        {
          "name": "stdout",
          "output_type": "stream",
          "text": [
            "Empty DataFrame\n",
            "Columns: [Loan ID, Customer ID, Caste, Full Name, Father Name, Mother Name, Spouse Name, State, state_map, caste_map]\n",
            "Index: []\n"
          ]
        }
      ],
      "source": [
        "# no duplicate rows\n",
        "duplicate_rows = data[data.duplicated()]\n",
        "print(duplicate_rows)"
      ]
    },
    {
      "cell_type": "markdown",
      "metadata": {
        "id": "Igi6XRdJGaTd"
      },
      "source": [
        "## Feature Engineering"
      ]
    },
    {
      "cell_type": "code",
      "execution_count": 133,
      "metadata": {
        "colab": {
          "base_uri": "https://localhost:8080/",
          "height": 206
        },
        "id": "j2ODHg-z-R6Q",
        "outputId": "c35ae37e-ec36-4126-d245-ce6c7078ecf6"
      },
      "outputs": [
        {
          "data": {
            "text/html": [
              "<div>\n",
              "<style scoped>\n",
              "    .dataframe tbody tr th:only-of-type {\n",
              "        vertical-align: middle;\n",
              "    }\n",
              "\n",
              "    .dataframe tbody tr th {\n",
              "        vertical-align: top;\n",
              "    }\n",
              "\n",
              "    .dataframe thead th {\n",
              "        text-align: right;\n",
              "    }\n",
              "</style>\n",
              "<table border=\"1\" class=\"dataframe\">\n",
              "  <thead>\n",
              "    <tr style=\"text-align: right;\">\n",
              "      <th></th>\n",
              "      <th>Loan ID</th>\n",
              "      <th>Customer ID</th>\n",
              "      <th>Caste</th>\n",
              "      <th>Full Name</th>\n",
              "      <th>Father Name</th>\n",
              "      <th>Mother Name</th>\n",
              "      <th>Spouse Name</th>\n",
              "      <th>State</th>\n",
              "      <th>state_map</th>\n",
              "      <th>caste_map</th>\n",
              "    </tr>\n",
              "  </thead>\n",
              "  <tbody>\n",
              "    <tr>\n",
              "      <th>0</th>\n",
              "      <td>LN-771687</td>\n",
              "      <td>CID-180965</td>\n",
              "      <td>General</td>\n",
              "      <td>KRISHNA KUNWAR</td>\n",
              "      <td>GORDHAN SINGH</td>\n",
              "      <td>GENDA KUNWAR</td>\n",
              "      <td>SHAMBHU</td>\n",
              "      <td>Madhya Pradesh</td>\n",
              "      <td>1</td>\n",
              "      <td>1</td>\n",
              "    </tr>\n",
              "    <tr>\n",
              "      <th>1</th>\n",
              "      <td>LN-771687</td>\n",
              "      <td>CID-551066</td>\n",
              "      <td>General</td>\n",
              "      <td>SHAMBHU SINGH</td>\n",
              "      <td>KALU SINGH</td>\n",
              "      <td>ANTAR BAI</td>\n",
              "      <td>KRISHNA KUNWAR</td>\n",
              "      <td>Madhya Pradesh</td>\n",
              "      <td>1</td>\n",
              "      <td>1</td>\n",
              "    </tr>\n",
              "    <tr>\n",
              "      <th>2</th>\n",
              "      <td>LN-771687</td>\n",
              "      <td>CID-760294</td>\n",
              "      <td>General</td>\n",
              "      <td>SURAJ RATHORE</td>\n",
              "      <td>SHAMBHU SINGH</td>\n",
              "      <td>KRISHNA SINGH</td>\n",
              "      <td>NA</td>\n",
              "      <td>Madhya Pradesh</td>\n",
              "      <td>1</td>\n",
              "      <td>1</td>\n",
              "    </tr>\n",
              "    <tr>\n",
              "      <th>3</th>\n",
              "      <td>LN-450141</td>\n",
              "      <td>CID-990878</td>\n",
              "      <td>General</td>\n",
              "      <td>SUSHILA</td>\n",
              "      <td>SAGAR MAL</td>\n",
              "      <td>KANTA DEVI</td>\n",
              "      <td>MOHAN LAL KHICHI</td>\n",
              "      <td>Rajasthan</td>\n",
              "      <td>2</td>\n",
              "      <td>1</td>\n",
              "    </tr>\n",
              "    <tr>\n",
              "      <th>4</th>\n",
              "      <td>LN-450141</td>\n",
              "      <td>CID-993755</td>\n",
              "      <td>General</td>\n",
              "      <td>VISHAL KHICHI</td>\n",
              "      <td>MOHAN LAL</td>\n",
              "      <td>SUSHILA</td>\n",
              "      <td>NA</td>\n",
              "      <td>Rajasthan</td>\n",
              "      <td>2</td>\n",
              "      <td>1</td>\n",
              "    </tr>\n",
              "  </tbody>\n",
              "</table>\n",
              "</div>"
            ],
            "text/plain": [
              "     Loan ID Customer ID    Caste       Full Name    Father Name  \\\n",
              "0  LN-771687  CID-180965  General  KRISHNA KUNWAR  GORDHAN SINGH   \n",
              "1  LN-771687  CID-551066  General   SHAMBHU SINGH     KALU SINGH   \n",
              "2  LN-771687  CID-760294  General   SURAJ RATHORE  SHAMBHU SINGH   \n",
              "3  LN-450141  CID-990878  General        SUSHILA       SAGAR MAL   \n",
              "4  LN-450141  CID-993755  General   VISHAL KHICHI      MOHAN LAL   \n",
              "\n",
              "     Mother Name       Spouse Name           State  state_map  caste_map  \n",
              "0   GENDA KUNWAR           SHAMBHU  Madhya Pradesh          1          1  \n",
              "1      ANTAR BAI    KRISHNA KUNWAR  Madhya Pradesh          1          1  \n",
              "2  KRISHNA SINGH                NA  Madhya Pradesh          1          1  \n",
              "3     KANTA DEVI  MOHAN LAL KHICHI       Rajasthan          2          1  \n",
              "4        SUSHILA                NA       Rajasthan          2          1  "
            ]
          },
          "execution_count": 133,
          "metadata": {},
          "output_type": "execute_result"
        }
      ],
      "source": [
        "data.head()"
      ]
    },
    {
      "cell_type": "code",
      "execution_count": 134,
      "metadata": {
        "id": "SZcodLGhGlQD"
      },
      "outputs": [],
      "source": [
        "## Caste Map -- > 1:General 2:SC 3:ST 4:OBC 5:Backward Caste 0:Unknown\n",
        "## State Map -- > 1:Madhyapradesh 2:Rajasthan 3:Maharastra"
      ]
    },
    {
      "cell_type": "code",
      "execution_count": 135,
      "metadata": {
        "colab": {
          "base_uri": "https://localhost:8080/"
        },
        "id": "cSHBel0oIIrB",
        "outputId": "9772b97b-2867-429f-9ae2-46ab89e4793a"
      },
      "outputs": [
        {
          "data": {
            "text/plain": [
              "['ANDH',\n",
              " 'BAIGA',\n",
              " 'BARDA',\n",
              " 'BAVACHA',\n",
              " 'BAMCHA',\n",
              " 'BHAINA',\n",
              " 'BHARIA BHUMIA',\n",
              " 'BHUINHAR BHUMIA',\n",
              " 'PANDO',\n",
              " 'BHATTRA',\n",
              " 'BHIL',\n",
              " 'BHIL GARASIA',\n",
              " 'DHOLI BHIL',\n",
              " 'DUNGRI BHIL',\n",
              " 'DUNGRI GARASIA',\n",
              " 'MEWASI BHIL',\n",
              " 'RAWAL BHIL',\n",
              " 'TADVI BHIL',\n",
              " 'BHAGALIA',\n",
              " 'BHILALA',\n",
              " 'PAWRA',\n",
              " 'VASAVA',\n",
              " 'VASAVE',\n",
              " 'BHUNJIA',\n",
              " 'BINJHWAR',\n",
              " 'BIRHUL',\n",
              " 'BIRHOR',\n",
              " 'DHANKA',\n",
              " 'TETARIA',\n",
              " 'VALVI',\n",
              " 'DHANWAR',\n",
              " 'DHODIA',\n",
              " 'DUBLA',\n",
              " 'TALAVIA',\n",
              " 'HALPATI',\n",
              " 'GAMIT',\n",
              " 'GAMTA',\n",
              " 'GAVIT',\n",
              " 'MAVCHI',\n",
              " 'PADVI',\n",
              " 'GOND',\n",
              " 'RAJGOND',\n",
              " 'ARAKH',\n",
              " 'ARRAKH',\n",
              " 'AGARIA',\n",
              " 'ASUR',\n",
              " 'BADI MARIA',\n",
              " 'BADA MARIA',\n",
              " 'BHATOLA',\n",
              " 'BHIMMA',\n",
              " 'BHUTA',\n",
              " 'KOILABHUTA',\n",
              " 'KOILABHUTI',\n",
              " 'BHAR',\n",
              " 'BISONHORN MARIA',\n",
              " 'CHOTA MARIA',\n",
              " 'DANDAMI MARIA',\n",
              " 'DHURU',\n",
              " 'DHURWA',\n",
              " 'DHOBA',\n",
              " 'DHULIA',\n",
              " 'DORLA',\n",
              " 'GAIKI',\n",
              " 'GATTA',\n",
              " 'GATTI',\n",
              " 'GAITA',\n",
              " 'GOND GOWARI',\n",
              " 'HILL MARIA',\n",
              " 'KANDRA',\n",
              " 'KALANGA',\n",
              " 'KHATOLA',\n",
              " 'KOITAR',\n",
              " 'KOYA',\n",
              " 'KHIRWAR',\n",
              " 'KHIRWARA',\n",
              " 'KUCHA MARIA',\n",
              " 'KUCHAKI MARIA',\n",
              " 'MADIA',\n",
              " 'MANA',\n",
              " 'MANNEWAR',\n",
              " 'MOGHYA',\n",
              " 'MOGIA',\n",
              " 'MONGHYA',\n",
              " 'MUDIA',\n",
              " 'MURIA',\n",
              " 'NAGARCHI',\n",
              " 'NAIKPOD',\n",
              " 'NAGWANSHI',\n",
              " 'OJHA',\n",
              " 'RAJ',\n",
              " 'SONJHARI JHAREKA',\n",
              " 'THATIA',\n",
              " 'THOTYA',\n",
              " 'WADE MARIA',\n",
              " 'VADE MARIA',\n",
              " 'HALBA',\n",
              " 'HALBI',\n",
              " 'KAMAR',\n",
              " 'KATHODI',\n",
              " 'KATKARI',\n",
              " 'DHOR KATHODI',\n",
              " 'DHOR KATHKARI',\n",
              " 'SON KATHODI',\n",
              " 'SON KATKARI',\n",
              " 'KAWAR',\n",
              " 'KANWAR',\n",
              " 'KAUR',\n",
              " 'CHERWA',\n",
              " 'RATHIA',\n",
              " 'TANWAR',\n",
              " 'CHATTRI',\n",
              " 'KHAIRWAR',\n",
              " 'KHARIA',\n",
              " 'KOKNA',\n",
              " 'KOKNI',\n",
              " 'KUKNA',\n",
              " 'KOL',\n",
              " 'KOLAM',\n",
              " 'MANNERVARLU',\n",
              " 'KOLI DHOR',\n",
              " 'TOKRE KOLI',\n",
              " 'KOLCHA',\n",
              " 'KOLGHA',\n",
              " 'KOLI MAHADEV',\n",
              " 'DONGAR KOLI',\n",
              " 'KOLI MALHAR',\n",
              " 'KONDH',\n",
              " 'KHOND',\n",
              " 'KANDH',\n",
              " 'KORKU',\n",
              " 'BOPCHI',\n",
              " 'MOUASI',\n",
              " 'NIHAL',\n",
              " 'NAHUL',\n",
              " 'BONDHI',\n",
              " 'BONDEYA',\n",
              " 'KOYA',\n",
              " 'BHINE KOYA',\n",
              " 'RAJKOYA',\n",
              " 'NAGESIA',\n",
              " 'NAGASIA',\n",
              " 'NAIKDA',\n",
              " 'NAYAKA',\n",
              " 'CHOLIVALA NAYAKA',\n",
              " 'KAPADIA NAYAKA',\n",
              " 'MOTA NAYAKA',\n",
              " 'NANA NAYAKA',\n",
              " 'ORAON',\n",
              " 'DHANGAD',\n",
              " 'PARDHAN',\n",
              " 'PATHARI',\n",
              " 'SAROTI',\n",
              " 'PARDHI',\n",
              " 'ADVICHINCHER',\n",
              " 'PHANS PARDHI',\n",
              " 'PHANSE PARDHI',\n",
              " 'LANGOLI PARDHI',\n",
              " 'BAHELIA',\n",
              " 'BAHELLIA',\n",
              " 'CHITA PARDHI',\n",
              " 'SHIKARI',\n",
              " 'TAKANKAR',\n",
              " 'TAKIA',\n",
              " 'PARJA',\n",
              " 'PATELIA',\n",
              " 'POMLA',\n",
              " 'RATHAWA',\n",
              " 'SAWAR',\n",
              " 'SAWARA',\n",
              " 'THAKUR',\n",
              " 'THAKAR',\n",
              " 'VARLI',\n",
              " 'VITOLIA',\n",
              " 'KOTWALIA',\n",
              " 'BARODIA']"
            ]
          },
          "execution_count": 135,
          "metadata": {},
          "output_type": "execute_result"
        }
      ],
      "source": [
        "st_castes_maharashtra"
      ]
    },
    {
      "cell_type": "code",
      "execution_count": 136,
      "metadata": {
        "colab": {
          "base_uri": "https://localhost:8080/"
        },
        "id": "DoP-EJ-9KcLG",
        "outputId": "9bcaf868-6d8b-4c6f-89bc-9e136c08ae94"
      },
      "outputs": [
        {
          "data": {
            "text/plain": [
              "['BHIL',\n",
              " 'BHIL GARASIA',\n",
              " 'DHOLI BHIL',\n",
              " 'DUNGRI BHIL',\n",
              " 'DUNGRI GARASIA',\n",
              " 'MEWASI BHIL',\n",
              " 'RAWAL BHIL',\n",
              " 'TADVI BHIL',\n",
              " 'BHAGALIA',\n",
              " 'BHILALA',\n",
              " 'PAWRA',\n",
              " 'VASAVA',\n",
              " 'VASAVE',\n",
              " 'BHIL MINA',\n",
              " 'DAMOR',\n",
              " 'DAMARIA',\n",
              " 'DHANKA',\n",
              " 'TADVI',\n",
              " 'TETARIA',\n",
              " 'VALVI',\n",
              " 'GARASIA',\n",
              " 'KATHODI',\n",
              " 'KATKARI',\n",
              " 'DHOR KATHODI',\n",
              " 'DHOR KATKARI',\n",
              " 'SON KATHODI',\n",
              " 'SON KATKARI',\n",
              " 'KOKNA',\n",
              " 'KOKNI',\n",
              " 'KUKNA',\n",
              " 'KOLI DHOR',\n",
              " 'TOKRE KOLI',\n",
              " 'KOLCHA',\n",
              " 'KOLGHA',\n",
              " 'MINA',\n",
              " 'NAIKDA',\n",
              " 'NAYAKA',\n",
              " 'CHOLIVALA NAYAKA',\n",
              " 'KAPADIA NAYAKA',\n",
              " 'MOTA NAYAKA',\n",
              " 'NANA NAYAKA',\n",
              " 'PATELIA',\n",
              " 'SEHARIA',\n",
              " 'SEHRIA',\n",
              " 'SAHARIYA']"
            ]
          },
          "execution_count": 136,
          "metadata": {},
          "output_type": "execute_result"
        }
      ],
      "source": [
        "st_castes_rajasthan"
      ]
    },
    {
      "cell_type": "code",
      "execution_count": 137,
      "metadata": {
        "colab": {
          "base_uri": "https://localhost:8080/"
        },
        "id": "og5z7IQQKfWf",
        "outputId": "ba776a57-cc6c-41c2-e494-14a6f8514321"
      },
      "outputs": [
        {
          "data": {
            "text/plain": [
              "['BHOTIA',\n",
              " 'BUKSA',\n",
              " 'JAUNSARI',\n",
              " 'RAJI',\n",
              " 'THARU',\n",
              " 'GOND',\n",
              " 'DHURIA',\n",
              " 'NAYAK',\n",
              " 'OJHA',\n",
              " 'PATHARI',\n",
              " 'RAJ GOND',\n",
              " 'KHARWAR',\n",
              " 'KHAIRWAR',\n",
              " 'SAHARYA',\n",
              " 'PARAHIYA',\n",
              " 'BAIGA',\n",
              " 'PANKHA',\n",
              " 'PANIKA',\n",
              " 'AGARIYA',\n",
              " 'PATARI',\n",
              " 'CHERO',\n",
              " 'BHUIYA',\n",
              " 'BHUINYA']"
            ]
          },
          "execution_count": 137,
          "metadata": {},
          "output_type": "execute_result"
        }
      ],
      "source": [
        "st_castes_madhya_pradesh"
      ]
    },
    {
      "cell_type": "code",
      "execution_count": 138,
      "metadata": {
        "id": "DBpO_zc3tN1_"
      },
      "outputs": [],
      "source": [
        "data['Name'] = data.apply(lambda row: [row['Full Name'], row['Father Name'], row['Mother Name'], row['Spouse Name']], axis=1)"
      ]
    },
    {
      "cell_type": "code",
      "execution_count": 139,
      "metadata": {
        "colab": {
          "base_uri": "https://localhost:8080/",
          "height": 310
        },
        "id": "amycIg3RHug2",
        "outputId": "de7dd891-31e2-47b8-c134-91aa79d40efc"
      },
      "outputs": [
        {
          "data": {
            "text/html": [
              "<div>\n",
              "<style scoped>\n",
              "    .dataframe tbody tr th:only-of-type {\n",
              "        vertical-align: middle;\n",
              "    }\n",
              "\n",
              "    .dataframe tbody tr th {\n",
              "        vertical-align: top;\n",
              "    }\n",
              "\n",
              "    .dataframe thead th {\n",
              "        text-align: right;\n",
              "    }\n",
              "</style>\n",
              "<table border=\"1\" class=\"dataframe\">\n",
              "  <thead>\n",
              "    <tr style=\"text-align: right;\">\n",
              "      <th></th>\n",
              "      <th>Loan ID</th>\n",
              "      <th>Customer ID</th>\n",
              "      <th>Caste</th>\n",
              "      <th>Full Name</th>\n",
              "      <th>Father Name</th>\n",
              "      <th>Mother Name</th>\n",
              "      <th>Spouse Name</th>\n",
              "      <th>State</th>\n",
              "      <th>state_map</th>\n",
              "      <th>caste_map</th>\n",
              "      <th>Name</th>\n",
              "    </tr>\n",
              "  </thead>\n",
              "  <tbody>\n",
              "    <tr>\n",
              "      <th>0</th>\n",
              "      <td>LN-771687</td>\n",
              "      <td>CID-180965</td>\n",
              "      <td>General</td>\n",
              "      <td>KRISHNA KUNWAR</td>\n",
              "      <td>GORDHAN SINGH</td>\n",
              "      <td>GENDA KUNWAR</td>\n",
              "      <td>SHAMBHU</td>\n",
              "      <td>Madhya Pradesh</td>\n",
              "      <td>1</td>\n",
              "      <td>1</td>\n",
              "      <td>[KRISHNA KUNWAR, GORDHAN SINGH, GENDA KUNWAR, ...</td>\n",
              "    </tr>\n",
              "    <tr>\n",
              "      <th>1</th>\n",
              "      <td>LN-771687</td>\n",
              "      <td>CID-551066</td>\n",
              "      <td>General</td>\n",
              "      <td>SHAMBHU SINGH</td>\n",
              "      <td>KALU SINGH</td>\n",
              "      <td>ANTAR BAI</td>\n",
              "      <td>KRISHNA KUNWAR</td>\n",
              "      <td>Madhya Pradesh</td>\n",
              "      <td>1</td>\n",
              "      <td>1</td>\n",
              "      <td>[SHAMBHU SINGH, KALU SINGH, ANTAR BAI, KRISHNA...</td>\n",
              "    </tr>\n",
              "    <tr>\n",
              "      <th>2</th>\n",
              "      <td>LN-771687</td>\n",
              "      <td>CID-760294</td>\n",
              "      <td>General</td>\n",
              "      <td>SURAJ RATHORE</td>\n",
              "      <td>SHAMBHU SINGH</td>\n",
              "      <td>KRISHNA SINGH</td>\n",
              "      <td>NA</td>\n",
              "      <td>Madhya Pradesh</td>\n",
              "      <td>1</td>\n",
              "      <td>1</td>\n",
              "      <td>[SURAJ RATHORE, SHAMBHU SINGH, KRISHNA SINGH, NA]</td>\n",
              "    </tr>\n",
              "    <tr>\n",
              "      <th>3</th>\n",
              "      <td>LN-450141</td>\n",
              "      <td>CID-990878</td>\n",
              "      <td>General</td>\n",
              "      <td>SUSHILA</td>\n",
              "      <td>SAGAR MAL</td>\n",
              "      <td>KANTA DEVI</td>\n",
              "      <td>MOHAN LAL KHICHI</td>\n",
              "      <td>Rajasthan</td>\n",
              "      <td>2</td>\n",
              "      <td>1</td>\n",
              "      <td>[SUSHILA , SAGAR MAL, KANTA DEVI, MOHAN LAL KH...</td>\n",
              "    </tr>\n",
              "    <tr>\n",
              "      <th>4</th>\n",
              "      <td>LN-450141</td>\n",
              "      <td>CID-993755</td>\n",
              "      <td>General</td>\n",
              "      <td>VISHAL KHICHI</td>\n",
              "      <td>MOHAN LAL</td>\n",
              "      <td>SUSHILA</td>\n",
              "      <td>NA</td>\n",
              "      <td>Rajasthan</td>\n",
              "      <td>2</td>\n",
              "      <td>1</td>\n",
              "      <td>[VISHAL KHICHI, MOHAN LAL, SUSHILA, NA]</td>\n",
              "    </tr>\n",
              "  </tbody>\n",
              "</table>\n",
              "</div>"
            ],
            "text/plain": [
              "     Loan ID Customer ID    Caste       Full Name    Father Name  \\\n",
              "0  LN-771687  CID-180965  General  KRISHNA KUNWAR  GORDHAN SINGH   \n",
              "1  LN-771687  CID-551066  General   SHAMBHU SINGH     KALU SINGH   \n",
              "2  LN-771687  CID-760294  General   SURAJ RATHORE  SHAMBHU SINGH   \n",
              "3  LN-450141  CID-990878  General        SUSHILA       SAGAR MAL   \n",
              "4  LN-450141  CID-993755  General   VISHAL KHICHI      MOHAN LAL   \n",
              "\n",
              "     Mother Name       Spouse Name           State  state_map  caste_map  \\\n",
              "0   GENDA KUNWAR           SHAMBHU  Madhya Pradesh          1          1   \n",
              "1      ANTAR BAI    KRISHNA KUNWAR  Madhya Pradesh          1          1   \n",
              "2  KRISHNA SINGH                NA  Madhya Pradesh          1          1   \n",
              "3     KANTA DEVI  MOHAN LAL KHICHI       Rajasthan          2          1   \n",
              "4        SUSHILA                NA       Rajasthan          2          1   \n",
              "\n",
              "                                                Name  \n",
              "0  [KRISHNA KUNWAR, GORDHAN SINGH, GENDA KUNWAR, ...  \n",
              "1  [SHAMBHU SINGH, KALU SINGH, ANTAR BAI, KRISHNA...  \n",
              "2  [SURAJ RATHORE, SHAMBHU SINGH, KRISHNA SINGH, NA]  \n",
              "3  [SUSHILA , SAGAR MAL, KANTA DEVI, MOHAN LAL KH...  \n",
              "4            [VISHAL KHICHI, MOHAN LAL, SUSHILA, NA]  "
            ]
          },
          "execution_count": 139,
          "metadata": {},
          "output_type": "execute_result"
        }
      ],
      "source": [
        "data.head()"
      ]
    },
    {
      "cell_type": "code",
      "execution_count": 140,
      "metadata": {
        "id": "4wN-BbarwpSj"
      },
      "outputs": [],
      "source": [
        "## spliting the list name seperated by space\n",
        "def split_names(name_list):\n",
        "  splitted_names = []\n",
        "  for name in name_list:\n",
        "    if isinstance(name, str):\n",
        "      name_parts = name.split()\n",
        "      if name_parts:\n",
        "        first_name = name_parts[0]\n",
        "        last_name = name_parts[-1] if len(name_parts) > 1 else ''\n",
        "        splitted_names.extend([first_name, last_name])\n",
        "  return splitted_names"
      ]
    },
    {
      "cell_type": "code",
      "execution_count": 141,
      "metadata": {
        "colab": {
          "base_uri": "https://localhost:8080/",
          "height": 397
        },
        "id": "ZQaqWEu-CcQ4",
        "outputId": "52287be0-93b7-4f1f-d5cd-7ef1fc2e67be"
      },
      "outputs": [
        {
          "data": {
            "text/html": [
              "<div>\n",
              "<style scoped>\n",
              "    .dataframe tbody tr th:only-of-type {\n",
              "        vertical-align: middle;\n",
              "    }\n",
              "\n",
              "    .dataframe tbody tr th {\n",
              "        vertical-align: top;\n",
              "    }\n",
              "\n",
              "    .dataframe thead th {\n",
              "        text-align: right;\n",
              "    }\n",
              "</style>\n",
              "<table border=\"1\" class=\"dataframe\">\n",
              "  <thead>\n",
              "    <tr style=\"text-align: right;\">\n",
              "      <th></th>\n",
              "      <th>Loan ID</th>\n",
              "      <th>Customer ID</th>\n",
              "      <th>Caste</th>\n",
              "      <th>Full Name</th>\n",
              "      <th>Father Name</th>\n",
              "      <th>Mother Name</th>\n",
              "      <th>Spouse Name</th>\n",
              "      <th>State</th>\n",
              "      <th>state_map</th>\n",
              "      <th>caste_map</th>\n",
              "      <th>Name</th>\n",
              "      <th>Names</th>\n",
              "    </tr>\n",
              "  </thead>\n",
              "  <tbody>\n",
              "    <tr>\n",
              "      <th>0</th>\n",
              "      <td>LN-771687</td>\n",
              "      <td>CID-180965</td>\n",
              "      <td>General</td>\n",
              "      <td>KRISHNA KUNWAR</td>\n",
              "      <td>GORDHAN SINGH</td>\n",
              "      <td>GENDA KUNWAR</td>\n",
              "      <td>SHAMBHU</td>\n",
              "      <td>Madhya Pradesh</td>\n",
              "      <td>1</td>\n",
              "      <td>1</td>\n",
              "      <td>[KRISHNA KUNWAR, GORDHAN SINGH, GENDA KUNWAR, ...</td>\n",
              "      <td>[KRISHNA, KUNWAR, GORDHAN, SINGH, GENDA, KUNWA...</td>\n",
              "    </tr>\n",
              "    <tr>\n",
              "      <th>1</th>\n",
              "      <td>LN-771687</td>\n",
              "      <td>CID-551066</td>\n",
              "      <td>General</td>\n",
              "      <td>SHAMBHU SINGH</td>\n",
              "      <td>KALU SINGH</td>\n",
              "      <td>ANTAR BAI</td>\n",
              "      <td>KRISHNA KUNWAR</td>\n",
              "      <td>Madhya Pradesh</td>\n",
              "      <td>1</td>\n",
              "      <td>1</td>\n",
              "      <td>[SHAMBHU SINGH, KALU SINGH, ANTAR BAI, KRISHNA...</td>\n",
              "      <td>[SHAMBHU, SINGH, KALU, SINGH, ANTAR, BAI, KRIS...</td>\n",
              "    </tr>\n",
              "    <tr>\n",
              "      <th>2</th>\n",
              "      <td>LN-771687</td>\n",
              "      <td>CID-760294</td>\n",
              "      <td>General</td>\n",
              "      <td>SURAJ RATHORE</td>\n",
              "      <td>SHAMBHU SINGH</td>\n",
              "      <td>KRISHNA SINGH</td>\n",
              "      <td>NA</td>\n",
              "      <td>Madhya Pradesh</td>\n",
              "      <td>1</td>\n",
              "      <td>1</td>\n",
              "      <td>[SURAJ RATHORE, SHAMBHU SINGH, KRISHNA SINGH, NA]</td>\n",
              "      <td>[SURAJ, RATHORE, SHAMBHU, SINGH, KRISHNA, SING...</td>\n",
              "    </tr>\n",
              "    <tr>\n",
              "      <th>3</th>\n",
              "      <td>LN-450141</td>\n",
              "      <td>CID-990878</td>\n",
              "      <td>General</td>\n",
              "      <td>SUSHILA</td>\n",
              "      <td>SAGAR MAL</td>\n",
              "      <td>KANTA DEVI</td>\n",
              "      <td>MOHAN LAL KHICHI</td>\n",
              "      <td>Rajasthan</td>\n",
              "      <td>2</td>\n",
              "      <td>1</td>\n",
              "      <td>[SUSHILA , SAGAR MAL, KANTA DEVI, MOHAN LAL KH...</td>\n",
              "      <td>[SUSHILA, , SAGAR, MAL, KANTA, DEVI, MOHAN, KH...</td>\n",
              "    </tr>\n",
              "    <tr>\n",
              "      <th>4</th>\n",
              "      <td>LN-450141</td>\n",
              "      <td>CID-993755</td>\n",
              "      <td>General</td>\n",
              "      <td>VISHAL KHICHI</td>\n",
              "      <td>MOHAN LAL</td>\n",
              "      <td>SUSHILA</td>\n",
              "      <td>NA</td>\n",
              "      <td>Rajasthan</td>\n",
              "      <td>2</td>\n",
              "      <td>1</td>\n",
              "      <td>[VISHAL KHICHI, MOHAN LAL, SUSHILA, NA]</td>\n",
              "      <td>[VISHAL, KHICHI, MOHAN, LAL, SUSHILA, , NA, ]</td>\n",
              "    </tr>\n",
              "  </tbody>\n",
              "</table>\n",
              "</div>"
            ],
            "text/plain": [
              "     Loan ID Customer ID    Caste       Full Name    Father Name  \\\n",
              "0  LN-771687  CID-180965  General  KRISHNA KUNWAR  GORDHAN SINGH   \n",
              "1  LN-771687  CID-551066  General   SHAMBHU SINGH     KALU SINGH   \n",
              "2  LN-771687  CID-760294  General   SURAJ RATHORE  SHAMBHU SINGH   \n",
              "3  LN-450141  CID-990878  General        SUSHILA       SAGAR MAL   \n",
              "4  LN-450141  CID-993755  General   VISHAL KHICHI      MOHAN LAL   \n",
              "\n",
              "     Mother Name       Spouse Name           State  state_map  caste_map  \\\n",
              "0   GENDA KUNWAR           SHAMBHU  Madhya Pradesh          1          1   \n",
              "1      ANTAR BAI    KRISHNA KUNWAR  Madhya Pradesh          1          1   \n",
              "2  KRISHNA SINGH                NA  Madhya Pradesh          1          1   \n",
              "3     KANTA DEVI  MOHAN LAL KHICHI       Rajasthan          2          1   \n",
              "4        SUSHILA                NA       Rajasthan          2          1   \n",
              "\n",
              "                                                Name  \\\n",
              "0  [KRISHNA KUNWAR, GORDHAN SINGH, GENDA KUNWAR, ...   \n",
              "1  [SHAMBHU SINGH, KALU SINGH, ANTAR BAI, KRISHNA...   \n",
              "2  [SURAJ RATHORE, SHAMBHU SINGH, KRISHNA SINGH, NA]   \n",
              "3  [SUSHILA , SAGAR MAL, KANTA DEVI, MOHAN LAL KH...   \n",
              "4            [VISHAL KHICHI, MOHAN LAL, SUSHILA, NA]   \n",
              "\n",
              "                                               Names  \n",
              "0  [KRISHNA, KUNWAR, GORDHAN, SINGH, GENDA, KUNWA...  \n",
              "1  [SHAMBHU, SINGH, KALU, SINGH, ANTAR, BAI, KRIS...  \n",
              "2  [SURAJ, RATHORE, SHAMBHU, SINGH, KRISHNA, SING...  \n",
              "3  [SUSHILA, , SAGAR, MAL, KANTA, DEVI, MOHAN, KH...  \n",
              "4      [VISHAL, KHICHI, MOHAN, LAL, SUSHILA, , NA, ]  "
            ]
          },
          "execution_count": 141,
          "metadata": {},
          "output_type": "execute_result"
        }
      ],
      "source": [
        "data['Names'] = data['Name'].apply(split_names)\n",
        "data.head()"
      ]
    },
    {
      "cell_type": "code",
      "execution_count": 142,
      "metadata": {
        "colab": {
          "base_uri": "https://localhost:8080/",
          "height": 310
        },
        "id": "Dw4ft2SWxPzA",
        "outputId": "1a4efd7b-7ef6-4259-c455-51eeda1ee1be"
      },
      "outputs": [
        {
          "data": {
            "text/html": [
              "<div>\n",
              "<style scoped>\n",
              "    .dataframe tbody tr th:only-of-type {\n",
              "        vertical-align: middle;\n",
              "    }\n",
              "\n",
              "    .dataframe tbody tr th {\n",
              "        vertical-align: top;\n",
              "    }\n",
              "\n",
              "    .dataframe thead th {\n",
              "        text-align: right;\n",
              "    }\n",
              "</style>\n",
              "<table border=\"1\" class=\"dataframe\">\n",
              "  <thead>\n",
              "    <tr style=\"text-align: right;\">\n",
              "      <th></th>\n",
              "      <th>Loan ID</th>\n",
              "      <th>Customer ID</th>\n",
              "      <th>Caste</th>\n",
              "      <th>Full Name</th>\n",
              "      <th>Father Name</th>\n",
              "      <th>Mother Name</th>\n",
              "      <th>Spouse Name</th>\n",
              "      <th>State</th>\n",
              "      <th>state_map</th>\n",
              "      <th>caste_map</th>\n",
              "      <th>Names</th>\n",
              "    </tr>\n",
              "  </thead>\n",
              "  <tbody>\n",
              "    <tr>\n",
              "      <th>0</th>\n",
              "      <td>LN-771687</td>\n",
              "      <td>CID-180965</td>\n",
              "      <td>General</td>\n",
              "      <td>KRISHNA KUNWAR</td>\n",
              "      <td>GORDHAN SINGH</td>\n",
              "      <td>GENDA KUNWAR</td>\n",
              "      <td>SHAMBHU</td>\n",
              "      <td>Madhya Pradesh</td>\n",
              "      <td>1</td>\n",
              "      <td>1</td>\n",
              "      <td>[KRISHNA, KUNWAR, GORDHAN, SINGH, GENDA, KUNWA...</td>\n",
              "    </tr>\n",
              "    <tr>\n",
              "      <th>1</th>\n",
              "      <td>LN-771687</td>\n",
              "      <td>CID-551066</td>\n",
              "      <td>General</td>\n",
              "      <td>SHAMBHU SINGH</td>\n",
              "      <td>KALU SINGH</td>\n",
              "      <td>ANTAR BAI</td>\n",
              "      <td>KRISHNA KUNWAR</td>\n",
              "      <td>Madhya Pradesh</td>\n",
              "      <td>1</td>\n",
              "      <td>1</td>\n",
              "      <td>[SHAMBHU, SINGH, KALU, SINGH, ANTAR, BAI, KRIS...</td>\n",
              "    </tr>\n",
              "    <tr>\n",
              "      <th>2</th>\n",
              "      <td>LN-771687</td>\n",
              "      <td>CID-760294</td>\n",
              "      <td>General</td>\n",
              "      <td>SURAJ RATHORE</td>\n",
              "      <td>SHAMBHU SINGH</td>\n",
              "      <td>KRISHNA SINGH</td>\n",
              "      <td>NA</td>\n",
              "      <td>Madhya Pradesh</td>\n",
              "      <td>1</td>\n",
              "      <td>1</td>\n",
              "      <td>[SURAJ, RATHORE, SHAMBHU, SINGH, KRISHNA, SING...</td>\n",
              "    </tr>\n",
              "    <tr>\n",
              "      <th>3</th>\n",
              "      <td>LN-450141</td>\n",
              "      <td>CID-990878</td>\n",
              "      <td>General</td>\n",
              "      <td>SUSHILA</td>\n",
              "      <td>SAGAR MAL</td>\n",
              "      <td>KANTA DEVI</td>\n",
              "      <td>MOHAN LAL KHICHI</td>\n",
              "      <td>Rajasthan</td>\n",
              "      <td>2</td>\n",
              "      <td>1</td>\n",
              "      <td>[SUSHILA, , SAGAR, MAL, KANTA, DEVI, MOHAN, KH...</td>\n",
              "    </tr>\n",
              "    <tr>\n",
              "      <th>4</th>\n",
              "      <td>LN-450141</td>\n",
              "      <td>CID-993755</td>\n",
              "      <td>General</td>\n",
              "      <td>VISHAL KHICHI</td>\n",
              "      <td>MOHAN LAL</td>\n",
              "      <td>SUSHILA</td>\n",
              "      <td>NA</td>\n",
              "      <td>Rajasthan</td>\n",
              "      <td>2</td>\n",
              "      <td>1</td>\n",
              "      <td>[VISHAL, KHICHI, MOHAN, LAL, SUSHILA, , NA, ]</td>\n",
              "    </tr>\n",
              "  </tbody>\n",
              "</table>\n",
              "</div>"
            ],
            "text/plain": [
              "     Loan ID Customer ID    Caste       Full Name    Father Name  \\\n",
              "0  LN-771687  CID-180965  General  KRISHNA KUNWAR  GORDHAN SINGH   \n",
              "1  LN-771687  CID-551066  General   SHAMBHU SINGH     KALU SINGH   \n",
              "2  LN-771687  CID-760294  General   SURAJ RATHORE  SHAMBHU SINGH   \n",
              "3  LN-450141  CID-990878  General        SUSHILA       SAGAR MAL   \n",
              "4  LN-450141  CID-993755  General   VISHAL KHICHI      MOHAN LAL   \n",
              "\n",
              "     Mother Name       Spouse Name           State  state_map  caste_map  \\\n",
              "0   GENDA KUNWAR           SHAMBHU  Madhya Pradesh          1          1   \n",
              "1      ANTAR BAI    KRISHNA KUNWAR  Madhya Pradesh          1          1   \n",
              "2  KRISHNA SINGH                NA  Madhya Pradesh          1          1   \n",
              "3     KANTA DEVI  MOHAN LAL KHICHI       Rajasthan          2          1   \n",
              "4        SUSHILA                NA       Rajasthan          2          1   \n",
              "\n",
              "                                               Names  \n",
              "0  [KRISHNA, KUNWAR, GORDHAN, SINGH, GENDA, KUNWA...  \n",
              "1  [SHAMBHU, SINGH, KALU, SINGH, ANTAR, BAI, KRIS...  \n",
              "2  [SURAJ, RATHORE, SHAMBHU, SINGH, KRISHNA, SING...  \n",
              "3  [SUSHILA, , SAGAR, MAL, KANTA, DEVI, MOHAN, KH...  \n",
              "4      [VISHAL, KHICHI, MOHAN, LAL, SUSHILA, , NA, ]  "
            ]
          },
          "execution_count": 142,
          "metadata": {},
          "output_type": "execute_result"
        }
      ],
      "source": [
        "## removing Name col\n",
        "data = data.drop(['Name'], axis=1)\n",
        "data.head()"
      ]
    },
    {
      "cell_type": "code",
      "execution_count": 143,
      "metadata": {
        "colab": {
          "base_uri": "https://localhost:8080/"
        },
        "id": "tV_HNm14DFe8",
        "outputId": "355071e6-b7bf-47f6-f604-34f26760e12b"
      },
      "outputs": [
        {
          "name": "stdout",
          "output_type": "stream",
          "text": [
            "['KRISHNA', 'KUNWAR', 'GORDHAN', 'SINGH', 'GENDA', 'KUNWAR', 'SHAMBHU', '']\n"
          ]
        }
      ],
      "source": [
        "## checking for any Names list\n",
        "print(data['Names'].iloc[0])"
      ]
    },
    {
      "cell_type": "code",
      "execution_count": 144,
      "metadata": {
        "id": "wdctFmsYFDV8"
      },
      "outputs": [],
      "source": [
        "## removing empty list from all Names list\n",
        "def remove_empty_spaces(name_list):\n",
        "  cleaned_names = [name for name in name_list if name.strip() != '']\n",
        "  return cleaned_names"
      ]
    },
    {
      "cell_type": "code",
      "execution_count": 145,
      "metadata": {
        "colab": {
          "base_uri": "https://localhost:8080/",
          "height": 310
        },
        "id": "vsk2m8dPFRE2",
        "outputId": "44f87039-c9f6-454b-d5f5-5905a4e135ab"
      },
      "outputs": [
        {
          "data": {
            "text/html": [
              "<div>\n",
              "<style scoped>\n",
              "    .dataframe tbody tr th:only-of-type {\n",
              "        vertical-align: middle;\n",
              "    }\n",
              "\n",
              "    .dataframe tbody tr th {\n",
              "        vertical-align: top;\n",
              "    }\n",
              "\n",
              "    .dataframe thead th {\n",
              "        text-align: right;\n",
              "    }\n",
              "</style>\n",
              "<table border=\"1\" class=\"dataframe\">\n",
              "  <thead>\n",
              "    <tr style=\"text-align: right;\">\n",
              "      <th></th>\n",
              "      <th>Loan ID</th>\n",
              "      <th>Customer ID</th>\n",
              "      <th>Caste</th>\n",
              "      <th>Full Name</th>\n",
              "      <th>Father Name</th>\n",
              "      <th>Mother Name</th>\n",
              "      <th>Spouse Name</th>\n",
              "      <th>State</th>\n",
              "      <th>state_map</th>\n",
              "      <th>caste_map</th>\n",
              "      <th>Names</th>\n",
              "    </tr>\n",
              "  </thead>\n",
              "  <tbody>\n",
              "    <tr>\n",
              "      <th>0</th>\n",
              "      <td>LN-771687</td>\n",
              "      <td>CID-180965</td>\n",
              "      <td>General</td>\n",
              "      <td>KRISHNA KUNWAR</td>\n",
              "      <td>GORDHAN SINGH</td>\n",
              "      <td>GENDA KUNWAR</td>\n",
              "      <td>SHAMBHU</td>\n",
              "      <td>Madhya Pradesh</td>\n",
              "      <td>1</td>\n",
              "      <td>1</td>\n",
              "      <td>[KRISHNA, KUNWAR, GORDHAN, SINGH, GENDA, KUNWA...</td>\n",
              "    </tr>\n",
              "    <tr>\n",
              "      <th>1</th>\n",
              "      <td>LN-771687</td>\n",
              "      <td>CID-551066</td>\n",
              "      <td>General</td>\n",
              "      <td>SHAMBHU SINGH</td>\n",
              "      <td>KALU SINGH</td>\n",
              "      <td>ANTAR BAI</td>\n",
              "      <td>KRISHNA KUNWAR</td>\n",
              "      <td>Madhya Pradesh</td>\n",
              "      <td>1</td>\n",
              "      <td>1</td>\n",
              "      <td>[SHAMBHU, SINGH, KALU, SINGH, ANTAR, BAI, KRIS...</td>\n",
              "    </tr>\n",
              "    <tr>\n",
              "      <th>2</th>\n",
              "      <td>LN-771687</td>\n",
              "      <td>CID-760294</td>\n",
              "      <td>General</td>\n",
              "      <td>SURAJ RATHORE</td>\n",
              "      <td>SHAMBHU SINGH</td>\n",
              "      <td>KRISHNA SINGH</td>\n",
              "      <td>NA</td>\n",
              "      <td>Madhya Pradesh</td>\n",
              "      <td>1</td>\n",
              "      <td>1</td>\n",
              "      <td>[SURAJ, RATHORE, SHAMBHU, SINGH, KRISHNA, SING...</td>\n",
              "    </tr>\n",
              "    <tr>\n",
              "      <th>3</th>\n",
              "      <td>LN-450141</td>\n",
              "      <td>CID-990878</td>\n",
              "      <td>General</td>\n",
              "      <td>SUSHILA</td>\n",
              "      <td>SAGAR MAL</td>\n",
              "      <td>KANTA DEVI</td>\n",
              "      <td>MOHAN LAL KHICHI</td>\n",
              "      <td>Rajasthan</td>\n",
              "      <td>2</td>\n",
              "      <td>1</td>\n",
              "      <td>[SUSHILA, SAGAR, MAL, KANTA, DEVI, MOHAN, KHICHI]</td>\n",
              "    </tr>\n",
              "    <tr>\n",
              "      <th>4</th>\n",
              "      <td>LN-450141</td>\n",
              "      <td>CID-993755</td>\n",
              "      <td>General</td>\n",
              "      <td>VISHAL KHICHI</td>\n",
              "      <td>MOHAN LAL</td>\n",
              "      <td>SUSHILA</td>\n",
              "      <td>NA</td>\n",
              "      <td>Rajasthan</td>\n",
              "      <td>2</td>\n",
              "      <td>1</td>\n",
              "      <td>[VISHAL, KHICHI, MOHAN, LAL, SUSHILA, NA]</td>\n",
              "    </tr>\n",
              "  </tbody>\n",
              "</table>\n",
              "</div>"
            ],
            "text/plain": [
              "     Loan ID Customer ID    Caste       Full Name    Father Name  \\\n",
              "0  LN-771687  CID-180965  General  KRISHNA KUNWAR  GORDHAN SINGH   \n",
              "1  LN-771687  CID-551066  General   SHAMBHU SINGH     KALU SINGH   \n",
              "2  LN-771687  CID-760294  General   SURAJ RATHORE  SHAMBHU SINGH   \n",
              "3  LN-450141  CID-990878  General        SUSHILA       SAGAR MAL   \n",
              "4  LN-450141  CID-993755  General   VISHAL KHICHI      MOHAN LAL   \n",
              "\n",
              "     Mother Name       Spouse Name           State  state_map  caste_map  \\\n",
              "0   GENDA KUNWAR           SHAMBHU  Madhya Pradesh          1          1   \n",
              "1      ANTAR BAI    KRISHNA KUNWAR  Madhya Pradesh          1          1   \n",
              "2  KRISHNA SINGH                NA  Madhya Pradesh          1          1   \n",
              "3     KANTA DEVI  MOHAN LAL KHICHI       Rajasthan          2          1   \n",
              "4        SUSHILA                NA       Rajasthan          2          1   \n",
              "\n",
              "                                               Names  \n",
              "0  [KRISHNA, KUNWAR, GORDHAN, SINGH, GENDA, KUNWA...  \n",
              "1  [SHAMBHU, SINGH, KALU, SINGH, ANTAR, BAI, KRIS...  \n",
              "2  [SURAJ, RATHORE, SHAMBHU, SINGH, KRISHNA, SING...  \n",
              "3  [SUSHILA, SAGAR, MAL, KANTA, DEVI, MOHAN, KHICHI]  \n",
              "4          [VISHAL, KHICHI, MOHAN, LAL, SUSHILA, NA]  "
            ]
          },
          "execution_count": 145,
          "metadata": {},
          "output_type": "execute_result"
        }
      ],
      "source": [
        "data['Names'] = data['Names'].apply(remove_empty_spaces)\n",
        "data.head()"
      ]
    },
    {
      "cell_type": "code",
      "execution_count": 146,
      "metadata": {
        "colab": {
          "base_uri": "https://localhost:8080/"
        },
        "id": "ydvd8q14FUER",
        "outputId": "fc30c4fd-e8ad-46db-8f23-fa93fbddd305"
      },
      "outputs": [
        {
          "name": "stdout",
          "output_type": "stream",
          "text": [
            "['KRISHNA', 'KUNWAR', 'GORDHAN', 'SINGH', 'GENDA', 'KUNWAR', 'SHAMBHU']\n"
          ]
        }
      ],
      "source": [
        "print(data['Names'].iloc[0])\n",
        "## empty space has been removed"
      ]
    },
    {
      "cell_type": "code",
      "execution_count": 147,
      "metadata": {
        "id": "VfJKmKoOKrCu"
      },
      "outputs": [],
      "source": [
        "## creating flag col\n",
        "## if for State Rajasthan any name mathches with the names present in st_castes_rajasthan we set flag == 1 else 0\n",
        "## if for State Maharastra any name mathches with the names present in st_castes_maharastra we set flag == 1 else 0\n",
        "## Madhya Pradesh is not in the pdf file.So put some arbitary number in flag variable for Madhya Pradesh\n",
        "def check_caste_match(row):\n",
        "  if row['State'] == 'Rajasthan':\n",
        "    for name in row['Names']:\n",
        "      if name.upper() in st_castes_rajasthan:\n",
        "        return 1\n",
        "    return 0\n",
        "  elif row['State'] == 'Maharashtra':\n",
        "    for name in row['Names']:\n",
        "      if name.upper() in st_castes_maharashtra:\n",
        "        return 1\n",
        "    return 0\n",
        "  elif row['State'] == 'Madhya Pradesh':\n",
        "    for name in row['Names']:\n",
        "      if name.upper() in st_castes_madhya_pradesh:\n",
        "        return 1\n",
        "    return 0\n",
        "  else:\n",
        "    return 0"
      ]
    },
    {
      "cell_type": "code",
      "execution_count": 148,
      "metadata": {
        "id": "CNNQXRq4MQuD"
      },
      "outputs": [],
      "source": [
        "data['Flag'] = data.apply(check_caste_match, axis=1)"
      ]
    },
    {
      "cell_type": "code",
      "execution_count": 149,
      "metadata": {
        "colab": {
          "base_uri": "https://localhost:8080/",
          "height": 310
        },
        "id": "san6Sfu2MWhb",
        "outputId": "109e4f7d-d791-484b-e999-c5ba64430036"
      },
      "outputs": [
        {
          "data": {
            "text/html": [
              "<div>\n",
              "<style scoped>\n",
              "    .dataframe tbody tr th:only-of-type {\n",
              "        vertical-align: middle;\n",
              "    }\n",
              "\n",
              "    .dataframe tbody tr th {\n",
              "        vertical-align: top;\n",
              "    }\n",
              "\n",
              "    .dataframe thead th {\n",
              "        text-align: right;\n",
              "    }\n",
              "</style>\n",
              "<table border=\"1\" class=\"dataframe\">\n",
              "  <thead>\n",
              "    <tr style=\"text-align: right;\">\n",
              "      <th></th>\n",
              "      <th>Loan ID</th>\n",
              "      <th>Customer ID</th>\n",
              "      <th>Caste</th>\n",
              "      <th>Full Name</th>\n",
              "      <th>Father Name</th>\n",
              "      <th>Mother Name</th>\n",
              "      <th>Spouse Name</th>\n",
              "      <th>State</th>\n",
              "      <th>state_map</th>\n",
              "      <th>caste_map</th>\n",
              "      <th>Names</th>\n",
              "      <th>Flag</th>\n",
              "    </tr>\n",
              "  </thead>\n",
              "  <tbody>\n",
              "    <tr>\n",
              "      <th>0</th>\n",
              "      <td>LN-771687</td>\n",
              "      <td>CID-180965</td>\n",
              "      <td>General</td>\n",
              "      <td>KRISHNA KUNWAR</td>\n",
              "      <td>GORDHAN SINGH</td>\n",
              "      <td>GENDA KUNWAR</td>\n",
              "      <td>SHAMBHU</td>\n",
              "      <td>Madhya Pradesh</td>\n",
              "      <td>1</td>\n",
              "      <td>1</td>\n",
              "      <td>[KRISHNA, KUNWAR, GORDHAN, SINGH, GENDA, KUNWA...</td>\n",
              "      <td>0</td>\n",
              "    </tr>\n",
              "    <tr>\n",
              "      <th>1</th>\n",
              "      <td>LN-771687</td>\n",
              "      <td>CID-551066</td>\n",
              "      <td>General</td>\n",
              "      <td>SHAMBHU SINGH</td>\n",
              "      <td>KALU SINGH</td>\n",
              "      <td>ANTAR BAI</td>\n",
              "      <td>KRISHNA KUNWAR</td>\n",
              "      <td>Madhya Pradesh</td>\n",
              "      <td>1</td>\n",
              "      <td>1</td>\n",
              "      <td>[SHAMBHU, SINGH, KALU, SINGH, ANTAR, BAI, KRIS...</td>\n",
              "      <td>0</td>\n",
              "    </tr>\n",
              "    <tr>\n",
              "      <th>2</th>\n",
              "      <td>LN-771687</td>\n",
              "      <td>CID-760294</td>\n",
              "      <td>General</td>\n",
              "      <td>SURAJ RATHORE</td>\n",
              "      <td>SHAMBHU SINGH</td>\n",
              "      <td>KRISHNA SINGH</td>\n",
              "      <td>NA</td>\n",
              "      <td>Madhya Pradesh</td>\n",
              "      <td>1</td>\n",
              "      <td>1</td>\n",
              "      <td>[SURAJ, RATHORE, SHAMBHU, SINGH, KRISHNA, SING...</td>\n",
              "      <td>0</td>\n",
              "    </tr>\n",
              "    <tr>\n",
              "      <th>3</th>\n",
              "      <td>LN-450141</td>\n",
              "      <td>CID-990878</td>\n",
              "      <td>General</td>\n",
              "      <td>SUSHILA</td>\n",
              "      <td>SAGAR MAL</td>\n",
              "      <td>KANTA DEVI</td>\n",
              "      <td>MOHAN LAL KHICHI</td>\n",
              "      <td>Rajasthan</td>\n",
              "      <td>2</td>\n",
              "      <td>1</td>\n",
              "      <td>[SUSHILA, SAGAR, MAL, KANTA, DEVI, MOHAN, KHICHI]</td>\n",
              "      <td>0</td>\n",
              "    </tr>\n",
              "    <tr>\n",
              "      <th>4</th>\n",
              "      <td>LN-450141</td>\n",
              "      <td>CID-993755</td>\n",
              "      <td>General</td>\n",
              "      <td>VISHAL KHICHI</td>\n",
              "      <td>MOHAN LAL</td>\n",
              "      <td>SUSHILA</td>\n",
              "      <td>NA</td>\n",
              "      <td>Rajasthan</td>\n",
              "      <td>2</td>\n",
              "      <td>1</td>\n",
              "      <td>[VISHAL, KHICHI, MOHAN, LAL, SUSHILA, NA]</td>\n",
              "      <td>0</td>\n",
              "    </tr>\n",
              "  </tbody>\n",
              "</table>\n",
              "</div>"
            ],
            "text/plain": [
              "     Loan ID Customer ID    Caste       Full Name    Father Name  \\\n",
              "0  LN-771687  CID-180965  General  KRISHNA KUNWAR  GORDHAN SINGH   \n",
              "1  LN-771687  CID-551066  General   SHAMBHU SINGH     KALU SINGH   \n",
              "2  LN-771687  CID-760294  General   SURAJ RATHORE  SHAMBHU SINGH   \n",
              "3  LN-450141  CID-990878  General        SUSHILA       SAGAR MAL   \n",
              "4  LN-450141  CID-993755  General   VISHAL KHICHI      MOHAN LAL   \n",
              "\n",
              "     Mother Name       Spouse Name           State  state_map  caste_map  \\\n",
              "0   GENDA KUNWAR           SHAMBHU  Madhya Pradesh          1          1   \n",
              "1      ANTAR BAI    KRISHNA KUNWAR  Madhya Pradesh          1          1   \n",
              "2  KRISHNA SINGH                NA  Madhya Pradesh          1          1   \n",
              "3     KANTA DEVI  MOHAN LAL KHICHI       Rajasthan          2          1   \n",
              "4        SUSHILA                NA       Rajasthan          2          1   \n",
              "\n",
              "                                               Names  Flag  \n",
              "0  [KRISHNA, KUNWAR, GORDHAN, SINGH, GENDA, KUNWA...     0  \n",
              "1  [SHAMBHU, SINGH, KALU, SINGH, ANTAR, BAI, KRIS...     0  \n",
              "2  [SURAJ, RATHORE, SHAMBHU, SINGH, KRISHNA, SING...     0  \n",
              "3  [SUSHILA, SAGAR, MAL, KANTA, DEVI, MOHAN, KHICHI]     0  \n",
              "4          [VISHAL, KHICHI, MOHAN, LAL, SUSHILA, NA]     0  "
            ]
          },
          "execution_count": 149,
          "metadata": {},
          "output_type": "execute_result"
        }
      ],
      "source": [
        "data.head()"
      ]
    },
    {
      "cell_type": "code",
      "execution_count": 150,
      "metadata": {
        "colab": {
          "base_uri": "https://localhost:8080/"
        },
        "id": "pSmqBxfjunbr",
        "outputId": "fbfbb5c4-9d0b-477c-f54f-80a8fa4c73b0"
      },
      "outputs": [
        {
          "name": "stdout",
          "output_type": "stream",
          "text": [
            "Flag\n",
            "0    9950\n",
            "1      50\n",
            "Name: count, dtype: int64\n"
          ]
        }
      ],
      "source": [
        "## check count for each flag variable\n",
        "print(data['Flag'].value_counts())"
      ]
    },
    {
      "cell_type": "code",
      "execution_count": 151,
      "metadata": {
        "id": "44Uuhpw8Ncyg"
      },
      "outputs": [],
      "source": [
        "## creating new dataframe for analysis\n",
        "df = data[['Loan ID', 'Customer ID', 'Names', 'state_map', 'caste_map', 'Flag']]"
      ]
    },
    {
      "cell_type": "code",
      "execution_count": 152,
      "metadata": {
        "colab": {
          "base_uri": "https://localhost:8080/",
          "height": 206
        },
        "id": "yB5qt9XHOozs",
        "outputId": "d502bb05-266f-4801-e18a-6b09f67d7c23"
      },
      "outputs": [
        {
          "data": {
            "text/html": [
              "<div>\n",
              "<style scoped>\n",
              "    .dataframe tbody tr th:only-of-type {\n",
              "        vertical-align: middle;\n",
              "    }\n",
              "\n",
              "    .dataframe tbody tr th {\n",
              "        vertical-align: top;\n",
              "    }\n",
              "\n",
              "    .dataframe thead th {\n",
              "        text-align: right;\n",
              "    }\n",
              "</style>\n",
              "<table border=\"1\" class=\"dataframe\">\n",
              "  <thead>\n",
              "    <tr style=\"text-align: right;\">\n",
              "      <th></th>\n",
              "      <th>Loan ID</th>\n",
              "      <th>Customer ID</th>\n",
              "      <th>Names</th>\n",
              "      <th>state_map</th>\n",
              "      <th>caste_map</th>\n",
              "      <th>Flag</th>\n",
              "    </tr>\n",
              "  </thead>\n",
              "  <tbody>\n",
              "    <tr>\n",
              "      <th>0</th>\n",
              "      <td>LN-771687</td>\n",
              "      <td>CID-180965</td>\n",
              "      <td>[KRISHNA, KUNWAR, GORDHAN, SINGH, GENDA, KUNWA...</td>\n",
              "      <td>1</td>\n",
              "      <td>1</td>\n",
              "      <td>0</td>\n",
              "    </tr>\n",
              "    <tr>\n",
              "      <th>1</th>\n",
              "      <td>LN-771687</td>\n",
              "      <td>CID-551066</td>\n",
              "      <td>[SHAMBHU, SINGH, KALU, SINGH, ANTAR, BAI, KRIS...</td>\n",
              "      <td>1</td>\n",
              "      <td>1</td>\n",
              "      <td>0</td>\n",
              "    </tr>\n",
              "    <tr>\n",
              "      <th>2</th>\n",
              "      <td>LN-771687</td>\n",
              "      <td>CID-760294</td>\n",
              "      <td>[SURAJ, RATHORE, SHAMBHU, SINGH, KRISHNA, SING...</td>\n",
              "      <td>1</td>\n",
              "      <td>1</td>\n",
              "      <td>0</td>\n",
              "    </tr>\n",
              "    <tr>\n",
              "      <th>3</th>\n",
              "      <td>LN-450141</td>\n",
              "      <td>CID-990878</td>\n",
              "      <td>[SUSHILA, SAGAR, MAL, KANTA, DEVI, MOHAN, KHICHI]</td>\n",
              "      <td>2</td>\n",
              "      <td>1</td>\n",
              "      <td>0</td>\n",
              "    </tr>\n",
              "    <tr>\n",
              "      <th>4</th>\n",
              "      <td>LN-450141</td>\n",
              "      <td>CID-993755</td>\n",
              "      <td>[VISHAL, KHICHI, MOHAN, LAL, SUSHILA, NA]</td>\n",
              "      <td>2</td>\n",
              "      <td>1</td>\n",
              "      <td>0</td>\n",
              "    </tr>\n",
              "  </tbody>\n",
              "</table>\n",
              "</div>"
            ],
            "text/plain": [
              "     Loan ID Customer ID                                              Names  \\\n",
              "0  LN-771687  CID-180965  [KRISHNA, KUNWAR, GORDHAN, SINGH, GENDA, KUNWA...   \n",
              "1  LN-771687  CID-551066  [SHAMBHU, SINGH, KALU, SINGH, ANTAR, BAI, KRIS...   \n",
              "2  LN-771687  CID-760294  [SURAJ, RATHORE, SHAMBHU, SINGH, KRISHNA, SING...   \n",
              "3  LN-450141  CID-990878  [SUSHILA, SAGAR, MAL, KANTA, DEVI, MOHAN, KHICHI]   \n",
              "4  LN-450141  CID-993755          [VISHAL, KHICHI, MOHAN, LAL, SUSHILA, NA]   \n",
              "\n",
              "   state_map  caste_map  Flag  \n",
              "0          1          1     0  \n",
              "1          1          1     0  \n",
              "2          1          1     0  \n",
              "3          2          1     0  \n",
              "4          2          1     0  "
            ]
          },
          "execution_count": 152,
          "metadata": {},
          "output_type": "execute_result"
        }
      ],
      "source": [
        "df.head()"
      ]
    },
    {
      "cell_type": "code",
      "execution_count": 153,
      "metadata": {
        "colab": {
          "base_uri": "https://localhost:8080/"
        },
        "id": "CvevP343P2jK",
        "outputId": "2ba43fab-d505-40d4-f1a2-8f7f2ab5eaf6"
      },
      "outputs": [
        {
          "name": "stdout",
          "output_type": "stream",
          "text": [
            "41\n",
            "42\n",
            "43\n",
            "93\n",
            "94\n",
            "200\n",
            "201\n",
            "202\n",
            "299\n",
            "2297\n",
            "2298\n",
            "2606\n",
            "2607\n",
            "2811\n",
            "2812\n",
            "2813\n",
            "3025\n",
            "3182\n",
            "3183\n",
            "3314\n",
            "3315\n",
            "3399\n",
            "3825\n",
            "3894\n",
            "4128\n",
            "4129\n",
            "4287\n",
            "4288\n",
            "4580\n",
            "4720\n",
            "4721\n",
            "4854\n",
            "5487\n",
            "5488\n",
            "6136\n",
            "6241\n",
            "6285\n",
            "6294\n",
            "6295\n",
            "7408\n",
            "7409\n",
            "7887\n",
            "7888\n",
            "7889\n",
            "8438\n",
            "8439\n",
            "8440\n",
            "8441\n",
            "9325\n",
            "9326\n"
          ]
        }
      ],
      "source": [
        "## index of the flag variable where flag == 1\n",
        "for index, row in df.iterrows():\n",
        "  if row['Flag'] == 1:\n",
        "    print(index)"
      ]
    },
    {
      "cell_type": "code",
      "execution_count": 154,
      "metadata": {
        "colab": {
          "base_uri": "https://localhost:8080/"
        },
        "id": "SOEBJqhfP2fB",
        "outputId": "18a7787a-41bb-4fc6-e0d8-b7812ecb3603"
      },
      "outputs": [
        {
          "name": "stdout",
          "output_type": "stream",
          "text": [
            "['MINA', 'DEVI', 'NANA', 'LAL', 'SHANTI', 'DEVI', 'PRATHAVI', 'REGAR']\n"
          ]
        }
      ],
      "source": [
        "## check names for a index\n",
        "print(df['Names'].iloc[9325])"
      ]
    },
    {
      "cell_type": "code",
      "execution_count": 155,
      "metadata": {
        "colab": {
          "base_uri": "https://localhost:8080/"
        },
        "id": "rhtJfGkXP2Qu",
        "outputId": "61270123-1684-4006-bbeb-9bccb90d5f1c"
      },
      "outputs": [
        {
          "name": "stdout",
          "output_type": "stream",
          "text": [
            "200\n",
            "201\n",
            "202\n",
            "2606\n",
            "2607\n",
            "2811\n",
            "2812\n",
            "2813\n",
            "3025\n",
            "3314\n",
            "3315\n",
            "3894\n",
            "4128\n",
            "4129\n",
            "4580\n",
            "4720\n",
            "4721\n",
            "6294\n",
            "6295\n",
            "7408\n",
            "7409\n",
            "8438\n",
            "8439\n",
            "8440\n",
            "8441\n"
          ]
        }
      ],
      "source": [
        "## check for Maharastra where flag is 1\n",
        "for index, row in df.iterrows():\n",
        "  if row['state_map'] == 3 and row['Flag'] == 1:\n",
        "    print(index)"
      ]
    },
    {
      "cell_type": "markdown",
      "metadata": {
        "id": "A9HzsRN0PNPV"
      },
      "source": [
        "## **Questions**"
      ]
    },
    {
      "cell_type": "code",
      "execution_count": 156,
      "metadata": {
        "colab": {
          "base_uri": "https://localhost:8080/",
          "height": 206
        },
        "id": "CZMq2_tZOx45",
        "outputId": "d24cc4cb-08dd-4141-936f-3131dbe74b62"
      },
      "outputs": [
        {
          "data": {
            "text/html": [
              "<div>\n",
              "<style scoped>\n",
              "    .dataframe tbody tr th:only-of-type {\n",
              "        vertical-align: middle;\n",
              "    }\n",
              "\n",
              "    .dataframe tbody tr th {\n",
              "        vertical-align: top;\n",
              "    }\n",
              "\n",
              "    .dataframe thead th {\n",
              "        text-align: right;\n",
              "    }\n",
              "</style>\n",
              "<table border=\"1\" class=\"dataframe\">\n",
              "  <thead>\n",
              "    <tr style=\"text-align: right;\">\n",
              "      <th></th>\n",
              "      <th>Loan ID</th>\n",
              "      <th>Customer ID</th>\n",
              "      <th>Names</th>\n",
              "      <th>state_map</th>\n",
              "      <th>caste_map</th>\n",
              "      <th>Flag</th>\n",
              "    </tr>\n",
              "  </thead>\n",
              "  <tbody>\n",
              "    <tr>\n",
              "      <th>0</th>\n",
              "      <td>LN-771687</td>\n",
              "      <td>CID-180965</td>\n",
              "      <td>[KRISHNA, KUNWAR, GORDHAN, SINGH, GENDA, KUNWA...</td>\n",
              "      <td>1</td>\n",
              "      <td>1</td>\n",
              "      <td>0</td>\n",
              "    </tr>\n",
              "    <tr>\n",
              "      <th>1</th>\n",
              "      <td>LN-771687</td>\n",
              "      <td>CID-551066</td>\n",
              "      <td>[SHAMBHU, SINGH, KALU, SINGH, ANTAR, BAI, KRIS...</td>\n",
              "      <td>1</td>\n",
              "      <td>1</td>\n",
              "      <td>0</td>\n",
              "    </tr>\n",
              "    <tr>\n",
              "      <th>2</th>\n",
              "      <td>LN-771687</td>\n",
              "      <td>CID-760294</td>\n",
              "      <td>[SURAJ, RATHORE, SHAMBHU, SINGH, KRISHNA, SING...</td>\n",
              "      <td>1</td>\n",
              "      <td>1</td>\n",
              "      <td>0</td>\n",
              "    </tr>\n",
              "    <tr>\n",
              "      <th>3</th>\n",
              "      <td>LN-450141</td>\n",
              "      <td>CID-990878</td>\n",
              "      <td>[SUSHILA, SAGAR, MAL, KANTA, DEVI, MOHAN, KHICHI]</td>\n",
              "      <td>2</td>\n",
              "      <td>1</td>\n",
              "      <td>0</td>\n",
              "    </tr>\n",
              "    <tr>\n",
              "      <th>4</th>\n",
              "      <td>LN-450141</td>\n",
              "      <td>CID-993755</td>\n",
              "      <td>[VISHAL, KHICHI, MOHAN, LAL, SUSHILA, NA]</td>\n",
              "      <td>2</td>\n",
              "      <td>1</td>\n",
              "      <td>0</td>\n",
              "    </tr>\n",
              "  </tbody>\n",
              "</table>\n",
              "</div>"
            ],
            "text/plain": [
              "     Loan ID Customer ID                                              Names  \\\n",
              "0  LN-771687  CID-180965  [KRISHNA, KUNWAR, GORDHAN, SINGH, GENDA, KUNWA...   \n",
              "1  LN-771687  CID-551066  [SHAMBHU, SINGH, KALU, SINGH, ANTAR, BAI, KRIS...   \n",
              "2  LN-771687  CID-760294  [SURAJ, RATHORE, SHAMBHU, SINGH, KRISHNA, SING...   \n",
              "3  LN-450141  CID-990878  [SUSHILA, SAGAR, MAL, KANTA, DEVI, MOHAN, KHICHI]   \n",
              "4  LN-450141  CID-993755          [VISHAL, KHICHI, MOHAN, LAL, SUSHILA, NA]   \n",
              "\n",
              "   state_map  caste_map  Flag  \n",
              "0          1          1     0  \n",
              "1          1          1     0  \n",
              "2          1          1     0  \n",
              "3          2          1     0  \n",
              "4          2          1     0  "
            ]
          },
          "execution_count": 156,
          "metadata": {},
          "output_type": "execute_result"
        }
      ],
      "source": [
        "df.head()"
      ]
    },
    {
      "cell_type": "markdown",
      "metadata": {
        "id": "dCQ3NWV_Xnl6"
      },
      "source": [
        "# **State-wise Analysis:**\n",
        "\n",
        "1. Which state has the maximum number of matches between the dataset names and the caste list?\n",
        "2. What is the percentage of matches for each state?"
      ]
    },
    {
      "cell_type": "code",
      "execution_count": 157,
      "metadata": {
        "id": "wOKA4jnrZEDM"
      },
      "outputs": [],
      "source": [
        "## count where flag  == 1 for each state\n",
        "def count_matches_in_flag(group):\n",
        "  count = 0\n",
        "  for flag in group:\n",
        "    if flag == 1:\n",
        "      count += 1\n",
        "  return count"
      ]
    },
    {
      "cell_type": "code",
      "execution_count": 158,
      "metadata": {
        "id": "i-913GxXZJtD"
      },
      "outputs": [],
      "source": [
        "dataframe = df.groupby('state_map')['Flag'].apply(count_matches_in_flag).reset_index(name='st_count')"
      ]
    },
    {
      "cell_type": "code",
      "execution_count": 159,
      "metadata": {
        "colab": {
          "base_uri": "https://localhost:8080/",
          "height": 143
        },
        "id": "K5LqqJs7ZXih",
        "outputId": "d78d4ac2-828d-41a6-8ea2-959417695712"
      },
      "outputs": [
        {
          "data": {
            "text/html": [
              "<div>\n",
              "<style scoped>\n",
              "    .dataframe tbody tr th:only-of-type {\n",
              "        vertical-align: middle;\n",
              "    }\n",
              "\n",
              "    .dataframe tbody tr th {\n",
              "        vertical-align: top;\n",
              "    }\n",
              "\n",
              "    .dataframe thead th {\n",
              "        text-align: right;\n",
              "    }\n",
              "</style>\n",
              "<table border=\"1\" class=\"dataframe\">\n",
              "  <thead>\n",
              "    <tr style=\"text-align: right;\">\n",
              "      <th></th>\n",
              "      <th>state_map</th>\n",
              "      <th>st_count</th>\n",
              "    </tr>\n",
              "  </thead>\n",
              "  <tbody>\n",
              "    <tr>\n",
              "      <th>0</th>\n",
              "      <td>1</td>\n",
              "      <td>7</td>\n",
              "    </tr>\n",
              "    <tr>\n",
              "      <th>1</th>\n",
              "      <td>2</td>\n",
              "      <td>18</td>\n",
              "    </tr>\n",
              "    <tr>\n",
              "      <th>2</th>\n",
              "      <td>3</td>\n",
              "      <td>25</td>\n",
              "    </tr>\n",
              "  </tbody>\n",
              "</table>\n",
              "</div>"
            ],
            "text/plain": [
              "   state_map  st_count\n",
              "0          1         7\n",
              "1          2        18\n",
              "2          3        25"
            ]
          },
          "execution_count": 159,
          "metadata": {},
          "output_type": "execute_result"
        }
      ],
      "source": [
        "## Maharastra has Maximum number of matches between dataset and caste list\n",
        "dataframe"
      ]
    },
    {
      "cell_type": "code",
      "execution_count": 160,
      "metadata": {
        "id": "1Jlac_wuaevG"
      },
      "outputs": [],
      "source": [
        "## percentage count\n",
        "dataframe['percentage'] = (dataframe['st_count'] / 43) * 100"
      ]
    },
    {
      "cell_type": "code",
      "execution_count": 161,
      "metadata": {
        "colab": {
          "base_uri": "https://localhost:8080/",
          "height": 143
        },
        "id": "_nO_zGkacBks",
        "outputId": "8352435b-3f4c-4ad3-e742-cb299acf6d64"
      },
      "outputs": [
        {
          "data": {
            "text/html": [
              "<div>\n",
              "<style scoped>\n",
              "    .dataframe tbody tr th:only-of-type {\n",
              "        vertical-align: middle;\n",
              "    }\n",
              "\n",
              "    .dataframe tbody tr th {\n",
              "        vertical-align: top;\n",
              "    }\n",
              "\n",
              "    .dataframe thead th {\n",
              "        text-align: right;\n",
              "    }\n",
              "</style>\n",
              "<table border=\"1\" class=\"dataframe\">\n",
              "  <thead>\n",
              "    <tr style=\"text-align: right;\">\n",
              "      <th></th>\n",
              "      <th>state_map</th>\n",
              "      <th>st_count</th>\n",
              "      <th>percentage</th>\n",
              "    </tr>\n",
              "  </thead>\n",
              "  <tbody>\n",
              "    <tr>\n",
              "      <th>0</th>\n",
              "      <td>1</td>\n",
              "      <td>7</td>\n",
              "      <td>16.279070</td>\n",
              "    </tr>\n",
              "    <tr>\n",
              "      <th>1</th>\n",
              "      <td>2</td>\n",
              "      <td>18</td>\n",
              "      <td>41.860465</td>\n",
              "    </tr>\n",
              "    <tr>\n",
              "      <th>2</th>\n",
              "      <td>3</td>\n",
              "      <td>25</td>\n",
              "      <td>58.139535</td>\n",
              "    </tr>\n",
              "  </tbody>\n",
              "</table>\n",
              "</div>"
            ],
            "text/plain": [
              "   state_map  st_count  percentage\n",
              "0          1         7   16.279070\n",
              "1          2        18   41.860465\n",
              "2          3        25   58.139535"
            ]
          },
          "execution_count": 161,
          "metadata": {},
          "output_type": "execute_result"
        }
      ],
      "source": [
        "dataframe"
      ]
    },
    {
      "cell_type": "code",
      "execution_count": 162,
      "metadata": {
        "id": "1TCWbkfNcFju"
      },
      "outputs": [],
      "source": [
        "## Madhyapradesh has a match of 16% count = 7\n",
        "## Rajasthan has a match of 42 % count = 18\n",
        "## Maharastra has a match of 58 % count = 25"
      ]
    },
    {
      "cell_type": "code",
      "execution_count": 163,
      "metadata": {
        "colab": {
          "base_uri": "https://localhost:8080/"
        },
        "id": "l-N6vde2HAVi",
        "outputId": "cd938c67-4423-464c-e548-c918727c3336"
      },
      "outputs": [
        {
          "name": "stdout",
          "output_type": "stream",
          "text": [
            "[['SHANTI', 'BAI', 'RAMPAL', 'LAL', 'KALI', 'BAI', 'RAM', 'BHIL'], ['KISHAN', 'BHIL', 'RAM', 'LAL', 'SHANTI', 'BAI'], ['RAM', 'BHIL', 'RATNA', 'BHIL', 'MUNNI', 'DEVI', 'SHANTI', 'BAI'], ['GANDHI', 'DEVI', 'DEBI', 'BHIL', 'LILA', 'MAGNA', 'BHIL'], ['MANGANA', 'BHIL', 'DEVA', 'BHIL', 'LILA', 'GANDHI', 'DEVI'], ['KARAN', 'DAMOR', 'JAMNA', 'DAMORE', 'MOJI', 'RADHA', 'DAMOR'], ['RADHA', 'DAMOR', 'LALU', 'SOMA', 'SHANTI', 'KARAN', 'DAMORE'], ['RATANI', 'BHIL', 'GOTU', 'LAL', 'CHANDI', 'BAI', 'BADRI', 'BHIL'], ['BADRI', 'BHIL', 'SHANKAR', 'LAL', 'TAMU', 'BAI', 'RATANI', 'BHIL'], ['LOKESH', 'BHIL', 'MANU', 'BHIL', 'RAMI', 'BAI', 'VASNI', 'BA'], ['Ganga', 'Damor', 'Vaga', 'Amliya', 'Bhuri', 'Amliya', 'W/o', 'Damor'], ['Shiv', 'Damor', 'Lemba', 'Damor', 'Mogi', 'Damor', 'NA'], ['BABU', 'BHIL', 'BHIKA', 'RAM', 'BHAWARI', 'DEVI', 'GEETA', 'DEVI'], ['SHISHUPAL', 'MEENA', 'MALLARAM', 'MINA', 'SANTI', 'DEVI', 'kli'], ['Mina', 'Unknown', 'Unknown', 'Shiv', 'Ram'], ['KAJOD', 'MINA', 'MISHRI', 'MEENA', 'KAILASHI', 'MEENA', 'NA'], ['MINA', 'DEVI', 'NANA', 'LAL', 'SHANTI', 'DEVI', 'PRATHAVI', 'REGAR'], ['PRATHVIRAJ', 'REGAR', 'BHURA', 'REGAR', 'SHANTI', 'DEVI', 'MINA', 'DEVI']]\n"
          ]
        }
      ],
      "source": [
        "## Names list for Rajasthan where Flag is 1\n",
        "names_state_2_flag_1 = df[(df['state_map'] == 2) & (df['Flag'] == 1)]['Names'].tolist()\n",
        "print(names_state_2_flag_1)"
      ]
    },
    {
      "cell_type": "code",
      "execution_count": 164,
      "metadata": {
        "colab": {
          "base_uri": "https://localhost:8080/"
        },
        "id": "-0vjPkIBHkLB",
        "outputId": "cb13f7a2-4709-487f-d58a-1299e915674a"
      },
      "outputs": [
        {
          "data": {
            "text/plain": [
              "18"
            ]
          },
          "execution_count": 164,
          "metadata": {},
          "output_type": "execute_result"
        }
      ],
      "source": [
        "len(names_state_2_flag_1)"
      ]
    },
    {
      "cell_type": "code",
      "execution_count": 165,
      "metadata": {
        "colab": {
          "base_uri": "https://localhost:8080/"
        },
        "id": "_A0XMFE7HAIi",
        "outputId": "90719756-ac1e-4c89-f5e9-c3a834d34fd1"
      },
      "outputs": [
        {
          "name": "stdout",
          "output_type": "stream",
          "text": [
            "[['JIJABAI', 'BHIL', 'LALCHAND', 'SUMANBAI', 'RAJU'], ['RAJU', 'BHIL', 'DEVRAM', 'DHALUBAI', 'JIJABAI'], ['SUNIL', 'BHIL', 'RAJU', 'JIJABAI', 'NA'], ['MOGARA', 'BHIL', 'CHAGAN', 'SUSHMA', 'MAHENDRA'], ['MAHENDRA', 'BHIL', 'DHANSING', 'SUBHADRABAI', 'NA'], ['RANJANA', 'THAKUR', 'Unknown', 'MOHINI', 'RAJENDRA'], ['ROSHAN', 'THAKUR', 'RAJENDRA', 'RANJANA', 'NA'], ['RAJENDRA', 'THAKUR', 'SUKDEV', 'PARBATI', 'NA'], ['Kalavati', 'Thakur', 'Unknown', 'Unknown', 'NA'], ['SHARADA', 'THAKUR', 'SAHEBRAO', 'VANITA', 'RUPESH'], ['RUPESH', 'THAKUR', 'MANNASINHA', 'THAKUR', 'LILABIA', 'SHARADA'], ['GEETA', 'RAHANGDALE', 'THANILAL', 'PARDHI', 'JANKI', 'PARDHI', 'GAJENDRA', 'RAHANGDALE'], ['GOVIND', 'PADVI', 'BHIMSING', 'PADVI', 'LATABAI', 'PADVI', 'NA'], ['LATA', 'PADVI', 'VINOD', 'PADAVI', 'TARABAI', 'PADVI', 'BHIM', 'PADVI'], ['Sanjay', 'Pardhi', 'Unknown', 'Unknown', 'NA'], ['NARESHKUMAR', 'VALVI', 'KARAMSING', 'VALVI', 'SATUBAI', 'MANGALA', 'VALVI'], ['MANGALA', 'VALVI', 'PRALHAD', 'VALVI', 'SHANTABAI', 'NARESHKUMAR', 'VALVI'], ['PRAKASH', 'PAWAR', 'BHAIDAS', 'PARDHI', 'SUGANDHA', 'PARDHI', 'NA'], ['JYOTIBAI', 'PARDHI', 'Unknown', 'SUNITA', 'PARDHI', 'PRAKASH', 'PARDHI'], ['Mamata', 'Thakur', 'Unknown', 'Unknown', 'Pankaj', 'Thakur'], ['Pankaj', 'Thakur', 'S/O:', 'Thakur', 'Unknown', 'NA'], ['VINAYAK', 'THAKUR', 'SHRIRAM', 'JAYABAI', 'NA'], ['VINAYAK', 'THAKUR', 'SHRIRAM', 'JAYABAI', 'NA'], ['AJINKYA', 'THAKUR', 'VINAYAK', 'VAISHALI', 'NA'], ['ANKITA', 'THAKUR', 'Unknown', 'MANISHA', 'AJINKYA']]\n"
          ]
        }
      ],
      "source": [
        "## Names list for Maharastra where Flag is 1\n",
        "names_state_3_flag_1 = df[(df['state_map'] == 3) & (df['Flag'] == 1)]['Names'].tolist()\n",
        "print(names_state_3_flag_1)"
      ]
    },
    {
      "cell_type": "code",
      "execution_count": 166,
      "metadata": {
        "colab": {
          "base_uri": "https://localhost:8080/"
        },
        "id": "6qmL9-cFHpTH",
        "outputId": "996f13be-0d31-4c05-a70a-e195c03129cc"
      },
      "outputs": [
        {
          "data": {
            "text/plain": [
              "25"
            ]
          },
          "execution_count": 166,
          "metadata": {},
          "output_type": "execute_result"
        }
      ],
      "source": [
        "len(names_state_3_flag_1)"
      ]
    },
    {
      "cell_type": "markdown",
      "metadata": {
        "id": "W57081CAdD2m"
      },
      "source": [
        "# **Caste-wise Analysis:**\n",
        "1. Which caste appears the most frequently across all states?\n",
        "2. Which caste appears the least frequently?\n",
        "3. How many unique castes are present in each state?"
      ]
    },
    {
      "cell_type": "code",
      "execution_count": 167,
      "metadata": {
        "colab": {
          "base_uri": "https://localhost:8080/",
          "height": 206
        },
        "id": "9wH-5CMgcibi",
        "outputId": "bb25885d-5416-497c-8fbf-ec637dee7903"
      },
      "outputs": [
        {
          "data": {
            "text/html": [
              "<div>\n",
              "<style scoped>\n",
              "    .dataframe tbody tr th:only-of-type {\n",
              "        vertical-align: middle;\n",
              "    }\n",
              "\n",
              "    .dataframe tbody tr th {\n",
              "        vertical-align: top;\n",
              "    }\n",
              "\n",
              "    .dataframe thead th {\n",
              "        text-align: right;\n",
              "    }\n",
              "</style>\n",
              "<table border=\"1\" class=\"dataframe\">\n",
              "  <thead>\n",
              "    <tr style=\"text-align: right;\">\n",
              "      <th></th>\n",
              "      <th>Loan ID</th>\n",
              "      <th>Customer ID</th>\n",
              "      <th>Names</th>\n",
              "      <th>state_map</th>\n",
              "      <th>caste_map</th>\n",
              "      <th>Flag</th>\n",
              "    </tr>\n",
              "  </thead>\n",
              "  <tbody>\n",
              "    <tr>\n",
              "      <th>0</th>\n",
              "      <td>LN-771687</td>\n",
              "      <td>CID-180965</td>\n",
              "      <td>[KRISHNA, KUNWAR, GORDHAN, SINGH, GENDA, KUNWA...</td>\n",
              "      <td>1</td>\n",
              "      <td>1</td>\n",
              "      <td>0</td>\n",
              "    </tr>\n",
              "    <tr>\n",
              "      <th>1</th>\n",
              "      <td>LN-771687</td>\n",
              "      <td>CID-551066</td>\n",
              "      <td>[SHAMBHU, SINGH, KALU, SINGH, ANTAR, BAI, KRIS...</td>\n",
              "      <td>1</td>\n",
              "      <td>1</td>\n",
              "      <td>0</td>\n",
              "    </tr>\n",
              "    <tr>\n",
              "      <th>2</th>\n",
              "      <td>LN-771687</td>\n",
              "      <td>CID-760294</td>\n",
              "      <td>[SURAJ, RATHORE, SHAMBHU, SINGH, KRISHNA, SING...</td>\n",
              "      <td>1</td>\n",
              "      <td>1</td>\n",
              "      <td>0</td>\n",
              "    </tr>\n",
              "    <tr>\n",
              "      <th>3</th>\n",
              "      <td>LN-450141</td>\n",
              "      <td>CID-990878</td>\n",
              "      <td>[SUSHILA, SAGAR, MAL, KANTA, DEVI, MOHAN, KHICHI]</td>\n",
              "      <td>2</td>\n",
              "      <td>1</td>\n",
              "      <td>0</td>\n",
              "    </tr>\n",
              "    <tr>\n",
              "      <th>4</th>\n",
              "      <td>LN-450141</td>\n",
              "      <td>CID-993755</td>\n",
              "      <td>[VISHAL, KHICHI, MOHAN, LAL, SUSHILA, NA]</td>\n",
              "      <td>2</td>\n",
              "      <td>1</td>\n",
              "      <td>0</td>\n",
              "    </tr>\n",
              "  </tbody>\n",
              "</table>\n",
              "</div>"
            ],
            "text/plain": [
              "     Loan ID Customer ID                                              Names  \\\n",
              "0  LN-771687  CID-180965  [KRISHNA, KUNWAR, GORDHAN, SINGH, GENDA, KUNWA...   \n",
              "1  LN-771687  CID-551066  [SHAMBHU, SINGH, KALU, SINGH, ANTAR, BAI, KRIS...   \n",
              "2  LN-771687  CID-760294  [SURAJ, RATHORE, SHAMBHU, SINGH, KRISHNA, SING...   \n",
              "3  LN-450141  CID-990878  [SUSHILA, SAGAR, MAL, KANTA, DEVI, MOHAN, KHICHI]   \n",
              "4  LN-450141  CID-993755          [VISHAL, KHICHI, MOHAN, LAL, SUSHILA, NA]   \n",
              "\n",
              "   state_map  caste_map  Flag  \n",
              "0          1          1     0  \n",
              "1          1          1     0  \n",
              "2          1          1     0  \n",
              "3          2          1     0  \n",
              "4          2          1     0  "
            ]
          },
          "execution_count": 167,
          "metadata": {},
          "output_type": "execute_result"
        }
      ],
      "source": [
        "df.head()"
      ]
    },
    {
      "cell_type": "code",
      "execution_count": 168,
      "metadata": {
        "id": "sp9InuKXdfdn"
      },
      "outputs": [],
      "source": [
        "caste_map_counts = df.groupby('caste_map')['caste_map'].count().reset_index(name='count')"
      ]
    },
    {
      "cell_type": "code",
      "execution_count": 169,
      "metadata": {
        "colab": {
          "base_uri": "https://localhost:8080/",
          "height": 238
        },
        "id": "kilfQh02d03C",
        "outputId": "a05d27ae-a01a-4076-b946-82080b86bc1b"
      },
      "outputs": [
        {
          "data": {
            "text/html": [
              "<div>\n",
              "<style scoped>\n",
              "    .dataframe tbody tr th:only-of-type {\n",
              "        vertical-align: middle;\n",
              "    }\n",
              "\n",
              "    .dataframe tbody tr th {\n",
              "        vertical-align: top;\n",
              "    }\n",
              "\n",
              "    .dataframe thead th {\n",
              "        text-align: right;\n",
              "    }\n",
              "</style>\n",
              "<table border=\"1\" class=\"dataframe\">\n",
              "  <thead>\n",
              "    <tr style=\"text-align: right;\">\n",
              "      <th></th>\n",
              "      <th>caste_map</th>\n",
              "      <th>count</th>\n",
              "    </tr>\n",
              "  </thead>\n",
              "  <tbody>\n",
              "    <tr>\n",
              "      <th>0</th>\n",
              "      <td>0</td>\n",
              "      <td>244</td>\n",
              "    </tr>\n",
              "    <tr>\n",
              "      <th>1</th>\n",
              "      <td>1</td>\n",
              "      <td>5627</td>\n",
              "    </tr>\n",
              "    <tr>\n",
              "      <th>2</th>\n",
              "      <td>2</td>\n",
              "      <td>798</td>\n",
              "    </tr>\n",
              "    <tr>\n",
              "      <th>3</th>\n",
              "      <td>3</td>\n",
              "      <td>366</td>\n",
              "    </tr>\n",
              "    <tr>\n",
              "      <th>4</th>\n",
              "      <td>4</td>\n",
              "      <td>2960</td>\n",
              "    </tr>\n",
              "    <tr>\n",
              "      <th>5</th>\n",
              "      <td>5</td>\n",
              "      <td>5</td>\n",
              "    </tr>\n",
              "  </tbody>\n",
              "</table>\n",
              "</div>"
            ],
            "text/plain": [
              "   caste_map  count\n",
              "0          0    244\n",
              "1          1   5627\n",
              "2          2    798\n",
              "3          3    366\n",
              "4          4   2960\n",
              "5          5      5"
            ]
          },
          "execution_count": 169,
          "metadata": {},
          "output_type": "execute_result"
        }
      ],
      "source": [
        "## General caste appears most frequently across all states with count 5627\n",
        "## Backward caste appears least frequently across all states with count 5\n",
        "caste_map_counts"
      ]
    },
    {
      "cell_type": "code",
      "execution_count": 170,
      "metadata": {
        "id": "EDi5shJTeDXJ"
      },
      "outputs": [],
      "source": [
        "## count unique casts for each state\n",
        "df_unique_caste_state = df.groupby(['state_map'])['caste_map'].unique().reset_index()"
      ]
    },
    {
      "cell_type": "code",
      "execution_count": 171,
      "metadata": {
        "colab": {
          "base_uri": "https://localhost:8080/",
          "height": 143
        },
        "id": "phjjiAqAh6Vp",
        "outputId": "49db463d-4b27-4ec8-c37e-9154a6b51019"
      },
      "outputs": [
        {
          "data": {
            "text/html": [
              "<div>\n",
              "<style scoped>\n",
              "    .dataframe tbody tr th:only-of-type {\n",
              "        vertical-align: middle;\n",
              "    }\n",
              "\n",
              "    .dataframe tbody tr th {\n",
              "        vertical-align: top;\n",
              "    }\n",
              "\n",
              "    .dataframe thead th {\n",
              "        text-align: right;\n",
              "    }\n",
              "</style>\n",
              "<table border=\"1\" class=\"dataframe\">\n",
              "  <thead>\n",
              "    <tr style=\"text-align: right;\">\n",
              "      <th></th>\n",
              "      <th>state_map</th>\n",
              "      <th>caste_map</th>\n",
              "    </tr>\n",
              "  </thead>\n",
              "  <tbody>\n",
              "    <tr>\n",
              "      <th>0</th>\n",
              "      <td>1</td>\n",
              "      <td>[1, 4, 3, 0, 2, 5]</td>\n",
              "    </tr>\n",
              "    <tr>\n",
              "      <th>1</th>\n",
              "      <td>2</td>\n",
              "      <td>[1, 4, 2, 3, 5, 0]</td>\n",
              "    </tr>\n",
              "    <tr>\n",
              "      <th>2</th>\n",
              "      <td>3</td>\n",
              "      <td>[1, 0, 4, 2, 3]</td>\n",
              "    </tr>\n",
              "  </tbody>\n",
              "</table>\n",
              "</div>"
            ],
            "text/plain": [
              "   state_map           caste_map\n",
              "0          1  [1, 4, 3, 0, 2, 5]\n",
              "1          2  [1, 4, 2, 3, 5, 0]\n",
              "2          3     [1, 0, 4, 2, 3]"
            ]
          },
          "execution_count": 171,
          "metadata": {},
          "output_type": "execute_result"
        }
      ],
      "source": [
        "df_unique_caste_state"
      ]
    },
    {
      "cell_type": "code",
      "execution_count": 172,
      "metadata": {
        "id": "SbTmsB0IiA2O"
      },
      "outputs": [],
      "source": [
        "## Madhyapradesh has General,OBC,ST,SC and Backward Castes\n",
        "## Rajasthan has General,OBC,SC,ST AND Backward Castes\n",
        "## Maharastra has General,OBC,SC and ST castes"
      ]
    },
    {
      "cell_type": "markdown",
      "metadata": {
        "id": "TAyYSn19jKT_"
      },
      "source": [
        "# **General Insights:**\n",
        "1. How many distinct Customer IDs are marked as general in the sheet but as ST according to the PDF?\n",
        "2. Create a state-wise table that counts the distinct Loan IDs where any customer ID is marked as ST as per PDF.\n"
      ]
    },
    {
      "cell_type": "code",
      "execution_count": 173,
      "metadata": {
        "colab": {
          "base_uri": "https://localhost:8080/",
          "height": 206
        },
        "id": "rjNoDl2JSe6K",
        "outputId": "fc8b71b3-f956-49e5-9564-7301ec263511"
      },
      "outputs": [
        {
          "data": {
            "text/html": [
              "<div>\n",
              "<style scoped>\n",
              "    .dataframe tbody tr th:only-of-type {\n",
              "        vertical-align: middle;\n",
              "    }\n",
              "\n",
              "    .dataframe tbody tr th {\n",
              "        vertical-align: top;\n",
              "    }\n",
              "\n",
              "    .dataframe thead th {\n",
              "        text-align: right;\n",
              "    }\n",
              "</style>\n",
              "<table border=\"1\" class=\"dataframe\">\n",
              "  <thead>\n",
              "    <tr style=\"text-align: right;\">\n",
              "      <th></th>\n",
              "      <th>Loan ID</th>\n",
              "      <th>Customer ID</th>\n",
              "      <th>Names</th>\n",
              "      <th>state_map</th>\n",
              "      <th>caste_map</th>\n",
              "      <th>Flag</th>\n",
              "    </tr>\n",
              "  </thead>\n",
              "  <tbody>\n",
              "    <tr>\n",
              "      <th>0</th>\n",
              "      <td>LN-771687</td>\n",
              "      <td>CID-180965</td>\n",
              "      <td>[KRISHNA, KUNWAR, GORDHAN, SINGH, GENDA, KUNWA...</td>\n",
              "      <td>1</td>\n",
              "      <td>1</td>\n",
              "      <td>0</td>\n",
              "    </tr>\n",
              "    <tr>\n",
              "      <th>1</th>\n",
              "      <td>LN-771687</td>\n",
              "      <td>CID-551066</td>\n",
              "      <td>[SHAMBHU, SINGH, KALU, SINGH, ANTAR, BAI, KRIS...</td>\n",
              "      <td>1</td>\n",
              "      <td>1</td>\n",
              "      <td>0</td>\n",
              "    </tr>\n",
              "    <tr>\n",
              "      <th>2</th>\n",
              "      <td>LN-771687</td>\n",
              "      <td>CID-760294</td>\n",
              "      <td>[SURAJ, RATHORE, SHAMBHU, SINGH, KRISHNA, SING...</td>\n",
              "      <td>1</td>\n",
              "      <td>1</td>\n",
              "      <td>0</td>\n",
              "    </tr>\n",
              "    <tr>\n",
              "      <th>3</th>\n",
              "      <td>LN-450141</td>\n",
              "      <td>CID-990878</td>\n",
              "      <td>[SUSHILA, SAGAR, MAL, KANTA, DEVI, MOHAN, KHICHI]</td>\n",
              "      <td>2</td>\n",
              "      <td>1</td>\n",
              "      <td>0</td>\n",
              "    </tr>\n",
              "    <tr>\n",
              "      <th>4</th>\n",
              "      <td>LN-450141</td>\n",
              "      <td>CID-993755</td>\n",
              "      <td>[VISHAL, KHICHI, MOHAN, LAL, SUSHILA, NA]</td>\n",
              "      <td>2</td>\n",
              "      <td>1</td>\n",
              "      <td>0</td>\n",
              "    </tr>\n",
              "  </tbody>\n",
              "</table>\n",
              "</div>"
            ],
            "text/plain": [
              "     Loan ID Customer ID                                              Names  \\\n",
              "0  LN-771687  CID-180965  [KRISHNA, KUNWAR, GORDHAN, SINGH, GENDA, KUNWA...   \n",
              "1  LN-771687  CID-551066  [SHAMBHU, SINGH, KALU, SINGH, ANTAR, BAI, KRIS...   \n",
              "2  LN-771687  CID-760294  [SURAJ, RATHORE, SHAMBHU, SINGH, KRISHNA, SING...   \n",
              "3  LN-450141  CID-990878  [SUSHILA, SAGAR, MAL, KANTA, DEVI, MOHAN, KHICHI]   \n",
              "4  LN-450141  CID-993755          [VISHAL, KHICHI, MOHAN, LAL, SUSHILA, NA]   \n",
              "\n",
              "   state_map  caste_map  Flag  \n",
              "0          1          1     0  \n",
              "1          1          1     0  \n",
              "2          1          1     0  \n",
              "3          2          1     0  \n",
              "4          2          1     0  "
            ]
          },
          "execution_count": 173,
          "metadata": {},
          "output_type": "execute_result"
        }
      ],
      "source": [
        "df.head()"
      ]
    },
    {
      "cell_type": "code",
      "execution_count": 174,
      "metadata": {
        "id": "R0_K9xqWis_o"
      },
      "outputs": [],
      "source": [
        "result_df = df[(df['caste_map'] == 1) & (df['Flag'] == 1)]"
      ]
    },
    {
      "cell_type": "code",
      "execution_count": 175,
      "metadata": {
        "id": "to6FJrUyjuAZ"
      },
      "outputs": [],
      "source": [
        "customer_ids = result_df['Customer ID'].tolist()"
      ]
    },
    {
      "cell_type": "code",
      "execution_count": 176,
      "metadata": {
        "colab": {
          "base_uri": "https://localhost:8080/"
        },
        "id": "ql5UVQDnjv4B",
        "outputId": "85b52f03-e386-4bc0-e061-060153f33651"
      },
      "outputs": [
        {
          "data": {
            "text/plain": [
              "27"
            ]
          },
          "execution_count": 176,
          "metadata": {},
          "output_type": "execute_result"
        }
      ],
      "source": [
        "## 27 distinct customer ids are marked as general in sheet but ST in pdf\n",
        "len(customer_ids)"
      ]
    },
    {
      "cell_type": "code",
      "execution_count": 177,
      "metadata": {
        "colab": {
          "base_uri": "https://localhost:8080/"
        },
        "id": "vLjrMSJqjxYM",
        "outputId": "eb2952df-d5c2-4b0b-f6bd-556de9220524"
      },
      "outputs": [
        {
          "data": {
            "text/plain": [
              "['CID-162410',\n",
              " 'CID-246719',\n",
              " 'CID-463531',\n",
              " 'CID-166991',\n",
              " 'CID-163835',\n",
              " 'CID-757720',\n",
              " 'CID-309545',\n",
              " 'CID-519675',\n",
              " 'CID-270101',\n",
              " 'CID-228310',\n",
              " 'CID-461579',\n",
              " 'CID-752818',\n",
              " 'CID-229765',\n",
              " 'CID-273718',\n",
              " 'CID-662582',\n",
              " 'CID-416743',\n",
              " 'CID-144264',\n",
              " 'CID-160745',\n",
              " 'CID-863920',\n",
              " 'CID-759803',\n",
              " 'CID-130579',\n",
              " 'CID-963612',\n",
              " 'CID-304996',\n",
              " 'CID-968215',\n",
              " 'CID-265377',\n",
              " 'CID-452151',\n",
              " 'CID-749555']"
            ]
          },
          "execution_count": 177,
          "metadata": {},
          "output_type": "execute_result"
        }
      ],
      "source": [
        "customer_ids"
      ]
    },
    {
      "cell_type": "code",
      "execution_count": 178,
      "metadata": {
        "id": "W7J7qc-nkPwU"
      },
      "outputs": [],
      "source": [
        "# show row where customer id CID-512371\n",
        "df_check = df[df['Customer ID'] == 'CID-309545']"
      ]
    },
    {
      "cell_type": "code",
      "execution_count": 179,
      "metadata": {
        "colab": {
          "base_uri": "https://localhost:8080/",
          "height": 89
        },
        "id": "bzEiZMbHJltE",
        "outputId": "9ca789e2-d89c-410a-a681-680fbed2978c"
      },
      "outputs": [
        {
          "data": {
            "text/html": [
              "<div>\n",
              "<style scoped>\n",
              "    .dataframe tbody tr th:only-of-type {\n",
              "        vertical-align: middle;\n",
              "    }\n",
              "\n",
              "    .dataframe tbody tr th {\n",
              "        vertical-align: top;\n",
              "    }\n",
              "\n",
              "    .dataframe thead th {\n",
              "        text-align: right;\n",
              "    }\n",
              "</style>\n",
              "<table border=\"1\" class=\"dataframe\">\n",
              "  <thead>\n",
              "    <tr style=\"text-align: right;\">\n",
              "      <th></th>\n",
              "      <th>Loan ID</th>\n",
              "      <th>Customer ID</th>\n",
              "      <th>Names</th>\n",
              "      <th>state_map</th>\n",
              "      <th>caste_map</th>\n",
              "      <th>Flag</th>\n",
              "    </tr>\n",
              "  </thead>\n",
              "  <tbody>\n",
              "    <tr>\n",
              "      <th>2811</th>\n",
              "      <td>LN-994459</td>\n",
              "      <td>CID-309545</td>\n",
              "      <td>[RANJANA, THAKUR, Unknown, MOHINI, RAJENDRA]</td>\n",
              "      <td>3</td>\n",
              "      <td>1</td>\n",
              "      <td>1</td>\n",
              "    </tr>\n",
              "  </tbody>\n",
              "</table>\n",
              "</div>"
            ],
            "text/plain": [
              "        Loan ID Customer ID                                         Names  \\\n",
              "2811  LN-994459  CID-309545  [RANJANA, THAKUR, Unknown, MOHINI, RAJENDRA]   \n",
              "\n",
              "      state_map  caste_map  Flag  \n",
              "2811          3          1     1  "
            ]
          },
          "execution_count": 179,
          "metadata": {},
          "output_type": "execute_result"
        }
      ],
      "source": [
        "df_check"
      ]
    },
    {
      "cell_type": "code",
      "execution_count": 180,
      "metadata": {
        "colab": {
          "base_uri": "https://localhost:8080/",
          "height": 125
        },
        "id": "1KW7qefLpDwo",
        "outputId": "296e79f2-e0d9-4e4a-b537-63276ced5fe9"
      },
      "outputs": [
        {
          "data": {
            "text/html": [
              "<div>\n",
              "<style scoped>\n",
              "    .dataframe tbody tr th:only-of-type {\n",
              "        vertical-align: middle;\n",
              "    }\n",
              "\n",
              "    .dataframe tbody tr th {\n",
              "        vertical-align: top;\n",
              "    }\n",
              "\n",
              "    .dataframe thead th {\n",
              "        text-align: right;\n",
              "    }\n",
              "</style>\n",
              "<table border=\"1\" class=\"dataframe\">\n",
              "  <thead>\n",
              "    <tr style=\"text-align: right;\">\n",
              "      <th></th>\n",
              "      <th>state_map</th>\n",
              "      <th>ST_Loan_Count</th>\n",
              "    </tr>\n",
              "  </thead>\n",
              "  <tbody>\n",
              "    <tr>\n",
              "      <th>0</th>\n",
              "      <td>1</td>\n",
              "      <td>4</td>\n",
              "    </tr>\n",
              "    <tr>\n",
              "      <th>1</th>\n",
              "      <td>2</td>\n",
              "      <td>11</td>\n",
              "    </tr>\n",
              "    <tr>\n",
              "      <th>2</th>\n",
              "      <td>3</td>\n",
              "      <td>12</td>\n",
              "    </tr>\n",
              "  </tbody>\n",
              "</table>\n",
              "</div>"
            ],
            "text/plain": [
              "   state_map  ST_Loan_Count\n",
              "0          1              4\n",
              "1          2             11\n",
              "2          3             12"
            ]
          },
          "execution_count": 180,
          "metadata": {},
          "output_type": "execute_result"
        }
      ],
      "source": [
        "## state-wise table that counts the distinct Loan IDs where any customer ID is marked as ST as per PDF.\n",
        "## Rajasthan has 11 distinct Loan Ids and Maharastra has 12 distinct Loan Ids and Madhyapradesh has 4 distinct loan Ids where Customer ID is ST as per pdf\n",
        "state_wise_st_loan_counts = df[df['Flag'] == 1].groupby('state_map')['Loan ID'].nunique().reset_index(name='ST_Loan_Count')\n",
        "state_wise_st_loan_counts"
      ]
    },
    {
      "cell_type": "markdown",
      "metadata": {
        "id": "zXv8RgPNbFfs"
      },
      "source": [
        "## Data visualisation"
      ]
    },
    {
      "cell_type": "code",
      "execution_count": 181,
      "metadata": {
        "id": "jVi1J9y7UX49"
      },
      "outputs": [],
      "source": [
        "state_map_to_name = {\n",
        "    1: \"Madhya Pradesh\",\n",
        "    2: \"Rajasthan\",\n",
        "    3: \"Maharashtra\",\n",
        "    0: \"Unknown\"\n",
        "}"
      ]
    },
    {
      "cell_type": "code",
      "execution_count": 182,
      "metadata": {
        "id": "uOfWhkWGVDW1"
      },
      "outputs": [],
      "source": [
        "caste_map_to_name = {\n",
        "    1: \"General\",\n",
        "    2: \"SC\",\n",
        "    3: \"ST\",\n",
        "    4: \"OBC\",\n",
        "    5: \"Backward Caste\",\n",
        "    0: \"Unknown\",\n",
        "}"
      ]
    },
    {
      "cell_type": "code",
      "execution_count": 183,
      "metadata": {
        "colab": {
          "base_uri": "https://localhost:8080/"
        },
        "id": "g4xhfqDiVFza",
        "outputId": "0bc27003-7190-4801-daf6-80ef7b0e66dd"
      },
      "outputs": [
        {
          "name": "stderr",
          "output_type": "stream",
          "text": [
            "/var/folders/8y/_7ktt_8s6jq9l112s93q5zxh0000gn/T/ipykernel_1960/2630871804.py:1: SettingWithCopyWarning: \n",
            "A value is trying to be set on a copy of a slice from a DataFrame.\n",
            "Try using .loc[row_indexer,col_indexer] = value instead\n",
            "\n",
            "See the caveats in the documentation: https://pandas.pydata.org/pandas-docs/stable/user_guide/indexing.html#returning-a-view-versus-a-copy\n",
            "  df['State_Name'] = df['state_map'].map(state_map_to_name)\n",
            "/var/folders/8y/_7ktt_8s6jq9l112s93q5zxh0000gn/T/ipykernel_1960/2630871804.py:2: SettingWithCopyWarning: \n",
            "A value is trying to be set on a copy of a slice from a DataFrame.\n",
            "Try using .loc[row_indexer,col_indexer] = value instead\n",
            "\n",
            "See the caveats in the documentation: https://pandas.pydata.org/pandas-docs/stable/user_guide/indexing.html#returning-a-view-versus-a-copy\n",
            "  df['Caste_Name'] = df['caste_map'].map(caste_map_to_name)\n"
          ]
        }
      ],
      "source": [
        "df['State_Name'] = df['state_map'].map(state_map_to_name)\n",
        "df['Caste_Name'] = df['caste_map'].map(caste_map_to_name)"
      ]
    },
    {
      "cell_type": "code",
      "execution_count": 184,
      "metadata": {
        "colab": {
          "base_uri": "https://localhost:8080/",
          "height": 206
        },
        "id": "nZYECckdVH5C",
        "outputId": "9d528e7d-a321-4283-e02d-41bb71ef727c"
      },
      "outputs": [
        {
          "data": {
            "text/html": [
              "<div>\n",
              "<style scoped>\n",
              "    .dataframe tbody tr th:only-of-type {\n",
              "        vertical-align: middle;\n",
              "    }\n",
              "\n",
              "    .dataframe tbody tr th {\n",
              "        vertical-align: top;\n",
              "    }\n",
              "\n",
              "    .dataframe thead th {\n",
              "        text-align: right;\n",
              "    }\n",
              "</style>\n",
              "<table border=\"1\" class=\"dataframe\">\n",
              "  <thead>\n",
              "    <tr style=\"text-align: right;\">\n",
              "      <th></th>\n",
              "      <th>Loan ID</th>\n",
              "      <th>Customer ID</th>\n",
              "      <th>Names</th>\n",
              "      <th>state_map</th>\n",
              "      <th>caste_map</th>\n",
              "      <th>Flag</th>\n",
              "      <th>State_Name</th>\n",
              "      <th>Caste_Name</th>\n",
              "    </tr>\n",
              "  </thead>\n",
              "  <tbody>\n",
              "    <tr>\n",
              "      <th>0</th>\n",
              "      <td>LN-771687</td>\n",
              "      <td>CID-180965</td>\n",
              "      <td>[KRISHNA, KUNWAR, GORDHAN, SINGH, GENDA, KUNWA...</td>\n",
              "      <td>1</td>\n",
              "      <td>1</td>\n",
              "      <td>0</td>\n",
              "      <td>Madhya Pradesh</td>\n",
              "      <td>General</td>\n",
              "    </tr>\n",
              "    <tr>\n",
              "      <th>1</th>\n",
              "      <td>LN-771687</td>\n",
              "      <td>CID-551066</td>\n",
              "      <td>[SHAMBHU, SINGH, KALU, SINGH, ANTAR, BAI, KRIS...</td>\n",
              "      <td>1</td>\n",
              "      <td>1</td>\n",
              "      <td>0</td>\n",
              "      <td>Madhya Pradesh</td>\n",
              "      <td>General</td>\n",
              "    </tr>\n",
              "    <tr>\n",
              "      <th>2</th>\n",
              "      <td>LN-771687</td>\n",
              "      <td>CID-760294</td>\n",
              "      <td>[SURAJ, RATHORE, SHAMBHU, SINGH, KRISHNA, SING...</td>\n",
              "      <td>1</td>\n",
              "      <td>1</td>\n",
              "      <td>0</td>\n",
              "      <td>Madhya Pradesh</td>\n",
              "      <td>General</td>\n",
              "    </tr>\n",
              "    <tr>\n",
              "      <th>3</th>\n",
              "      <td>LN-450141</td>\n",
              "      <td>CID-990878</td>\n",
              "      <td>[SUSHILA, SAGAR, MAL, KANTA, DEVI, MOHAN, KHICHI]</td>\n",
              "      <td>2</td>\n",
              "      <td>1</td>\n",
              "      <td>0</td>\n",
              "      <td>Rajasthan</td>\n",
              "      <td>General</td>\n",
              "    </tr>\n",
              "    <tr>\n",
              "      <th>4</th>\n",
              "      <td>LN-450141</td>\n",
              "      <td>CID-993755</td>\n",
              "      <td>[VISHAL, KHICHI, MOHAN, LAL, SUSHILA, NA]</td>\n",
              "      <td>2</td>\n",
              "      <td>1</td>\n",
              "      <td>0</td>\n",
              "      <td>Rajasthan</td>\n",
              "      <td>General</td>\n",
              "    </tr>\n",
              "  </tbody>\n",
              "</table>\n",
              "</div>"
            ],
            "text/plain": [
              "     Loan ID Customer ID                                              Names  \\\n",
              "0  LN-771687  CID-180965  [KRISHNA, KUNWAR, GORDHAN, SINGH, GENDA, KUNWA...   \n",
              "1  LN-771687  CID-551066  [SHAMBHU, SINGH, KALU, SINGH, ANTAR, BAI, KRIS...   \n",
              "2  LN-771687  CID-760294  [SURAJ, RATHORE, SHAMBHU, SINGH, KRISHNA, SING...   \n",
              "3  LN-450141  CID-990878  [SUSHILA, SAGAR, MAL, KANTA, DEVI, MOHAN, KHICHI]   \n",
              "4  LN-450141  CID-993755          [VISHAL, KHICHI, MOHAN, LAL, SUSHILA, NA]   \n",
              "\n",
              "   state_map  caste_map  Flag      State_Name Caste_Name  \n",
              "0          1          1     0  Madhya Pradesh    General  \n",
              "1          1          1     0  Madhya Pradesh    General  \n",
              "2          1          1     0  Madhya Pradesh    General  \n",
              "3          2          1     0       Rajasthan    General  \n",
              "4          2          1     0       Rajasthan    General  "
            ]
          },
          "execution_count": 184,
          "metadata": {},
          "output_type": "execute_result"
        }
      ],
      "source": [
        "df.head()"
      ]
    },
    {
      "cell_type": "code",
      "execution_count": 185,
      "metadata": {
        "colab": {
          "base_uri": "https://localhost:8080/",
          "height": 570
        },
        "id": "1Ah2QU6-VeVX",
        "outputId": "e3e2ca95-390f-4742-db89-af8d21e89913"
      },
      "outputs": [
        {
          "data": {
            "image/png": "[encoded data removed]",
            "text/plain": [
              "<Figure size 640x480 with 1 Axes>"
            ]
          },
          "metadata": {},
          "output_type": "display_data"
        }
      ],
      "source": [
        "## bar chart to see the distribution of different castes across the dataset.\n",
        "df['Caste_Name'].value_counts().plot(kind='bar', title='Caste Distribution')\n",
        "plt.show()"
      ]
    },
    {
      "cell_type": "code",
      "execution_count": 186,
      "metadata": {
        "colab": {
          "base_uri": "https://localhost:8080/",
          "height": 573
        },
        "id": "3HpuZCwAWRzj",
        "outputId": "1f31b0b8-29eb-4c72-cb22-a7d48eb0b779"
      },
      "outputs": [
        {
          "data": {
            "image/png": "[encoded data removed]",
            "text/plain": [
              "<Figure size 640x480 with 1 Axes>"
            ]
          },
          "metadata": {},
          "output_type": "display_data"
        }
      ],
      "source": [
        "## plot the distribution of customers across different states.\n",
        "df['State_Name'].value_counts().plot(kind='bar', title='State Distribution')\n",
        "plt.show()"
      ]
    },
    {
      "cell_type": "code",
      "execution_count": 187,
      "metadata": {
        "colab": {
          "base_uri": "https://localhost:8080/",
          "height": 742
        },
        "id": "y99jNuX2W9D_",
        "outputId": "57baf5cd-6676-45ca-ed59-3b847a4a0d3e"
      },
      "outputs": [
        {
          "data": {
            "image/png": "[encoded data removed]",
            "text/plain": [
              "<Figure size 1000x700 with 1 Axes>"
            ]
          },
          "metadata": {},
          "output_type": "display_data"
        }
      ],
      "source": [
        "## Create a pivot table or group the data by State and Caste to see how different castes are distributed across states.\n",
        "state_caste_distribution = df.groupby(['State_Name', 'Caste_Name']).size().unstack().fillna(0)\n",
        "state_caste_distribution.plot(kind='bar', stacked=True, figsize=(10,7))\n",
        "plt.title('State-wise Caste Distribution')\n",
        "plt.show()"
      ]
    },
    {
      "cell_type": "code",
      "execution_count": 188,
      "metadata": {
        "colab": {
          "base_uri": "https://localhost:8080/",
          "height": 484
        },
        "id": "NYrd4khF-4JE",
        "outputId": "97e31431-7706-40b8-fdaf-722d91a47796"
      },
      "outputs": [
        {
          "data": {
            "image/png": "[encoded data removed]",
            "text/plain": [
              "<Figure size 640x480 with 1 Axes>"
            ]
          },
          "metadata": {},
          "output_type": "display_data"
        }
      ],
      "source": [
        "# Distribution of ST vs Non-ST\n",
        "df['Flag'].value_counts().plot(kind='bar', title='Scheduled Tribe vs Non-Scheduled Tribe')\n",
        "plt.show()"
      ]
    },
    {
      "cell_type": "code",
      "execution_count": 189,
      "metadata": {
        "colab": {
          "base_uri": "https://localhost:8080/",
          "height": 570
        },
        "id": "OuK9JXDWXukX",
        "outputId": "69baf8ed-68e2-487f-ad8e-f68a1db2f31e"
      },
      "outputs": [
        {
          "data": {
            "image/png": "[encoded data removed]",
            "text/plain": [
              "<Figure size 640x480 with 1 Axes>"
            ]
          },
          "metadata": {},
          "output_type": "display_data"
        }
      ],
      "source": [
        "## Analyze whether there’s a significant difference in the number of loans across different castes\n",
        "df.groupby('Caste_Name')['Loan ID'].nunique().plot(kind='bar', title='Loan ID Distribution by Caste')\n",
        "plt.show()"
      ]
    },
    {
      "cell_type": "code",
      "execution_count": 190,
      "metadata": {
        "colab": {
          "base_uri": "https://localhost:8080/",
          "height": 573
        },
        "id": "UlMFMQWiX9Kk",
        "outputId": "c2296a81-c5f9-45b2-b3bf-893e636376a5"
      },
      "outputs": [
        {
          "data": {
            "image/png": "[encoded data removed]",
            "text/plain": [
              "<Figure size 640x480 with 1 Axes>"
            ]
          },
          "metadata": {},
          "output_type": "display_data"
        }
      ],
      "source": [
        "## Analyze whether there’s a significant difference in the number of loans across different states.\n",
        "df.groupby('State_Name')['Loan ID'].nunique().plot(kind='bar', title='Loan ID Distribution by State')\n",
        "plt.show()"
      ]
    }
  ],
  "metadata": {
    "colab": {
      "provenance": []
    },
    "kernelspec": {
      "display_name": "Python 3",
      "name": "python3"
    },
    "language_info": {
      "codemirror_mode": {
        "name": "ipython",
        "version": 3
      },
      "file_extension": ".py",
      "mimetype": "text/x-python",
      "name": "python",
      "nbconvert_exporter": "python",
      "pygments_lexer": "ipython3",
      "version": "3.11.7"
    }
  },
  "nbformat": 4,
  "nbformat_minor": 0
}
